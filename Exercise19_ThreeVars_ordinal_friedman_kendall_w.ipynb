{
  "nbformat": 4,
  "nbformat_minor": 0,
  "metadata": {
    "colab": {
      "private_outputs": true,
      "provenance": []
    },
    "kernelspec": {
      "name": "python3",
      "display_name": "Python 3"
    },
    "language_info": {
      "name": "python"
    }
  },
  "cells": [
    {
      "cell_type": "code",
      "execution_count": null,
      "metadata": {
        "id": "A9MWNVCNazKA"
      },
      "outputs": [],
      "source": [
        "'''\n",
        "Part 1: Descriptive analysis\n",
        "Use descriptive statistics to get an impression of the data, using:\n",
        "\n",
        "1) A cross table with the percentages for each score from each variable\n",
        "2) A visualisation of the data with a mutiple stacked bar-chart\n",
        "3) Some statistical measures for central tendency (the median) and dispersion (concensus)\n",
        "\n",
        "Part 2: Inferential statistics\n",
        "After the first impression determine what can be said about the population based on your sample data by:\n",
        "\n",
        "1) Determine if there are any differences between any of the variables in the population (Friedman test)\n",
        "2) If there are, then determine which variables differ significantly Determine the effect sizes (Kendall's W)\n",
        "\n",
        "Part 3: Reporting\n",
        "As the last step, you will need to write up all the results.\n",
        "'''"
      ]
    },
    {
      "cell_type": "code",
      "source": [
        "import pandas\n",
        "import numpy\n",
        "import matplotlib.pyplot as plt"
      ],
      "metadata": {
        "id": "lCnCuhvJbXJb"
      },
      "execution_count": null,
      "outputs": []
    },
    {
      "cell_type": "code",
      "source": [
        "data = pandas.read_csv('/content/StudentStatistics.csv', sep=';')\n",
        "data"
      ],
      "metadata": {
        "id": "CAUYcrL8bXQd"
      },
      "execution_count": null,
      "outputs": []
    },
    {
      "cell_type": "code",
      "source": [
        "'''\n",
        "'Teach_Motivate', 'Teach_LinkTheory', 'Teach_StimAsk', 'Teach_Avail', 'Teach_StimDisc', 'Teach_Partic', 'Teach_Comp'\n",
        "'''"
      ],
      "metadata": {
        "id": "GA_Tfd-UcBvu"
      },
      "execution_count": null,
      "outputs": []
    },
    {
      "cell_type": "code",
      "source": [
        "selected_data = data[['Teach_Motivate', 'Teach_LinkTheory', 'Teach_StimAsk', 'Teach_Avail', 'Teach_StimDisc', 'Teach_Partic', 'Teach_Comp']].dropna()\n",
        "selected_data.head()"
      ],
      "metadata": {
        "id": "P42zPcA1bo2C"
      },
      "execution_count": null,
      "outputs": []
    },
    {
      "cell_type": "code",
      "source": [
        "selected_data['Teach_Motivate'].value_counts()"
      ],
      "metadata": {
        "id": "LE0WTU1ucVwm"
      },
      "execution_count": null,
      "outputs": []
    },
    {
      "cell_type": "code",
      "source": [
        "coding = {'Fully Disagree': 1, 'Disagree': 2, 'Neither disagree nor agree': 3, 'Agree': 4, 'Fully agree': 5}"
      ],
      "metadata": {
        "id": "j5_iJu8Jcacz"
      },
      "execution_count": null,
      "outputs": []
    },
    {
      "cell_type": "code",
      "source": [
        "selected_data.replace(coding, inplace=True)"
      ],
      "metadata": {
        "id": "UVkMHWkvcgJ-"
      },
      "execution_count": null,
      "outputs": []
    },
    {
      "cell_type": "code",
      "source": [
        "selected_data"
      ],
      "metadata": {
        "id": "2F2cl3FEeHF3"
      },
      "execution_count": null,
      "outputs": []
    },
    {
      "cell_type": "code",
      "source": [
        "freq = {}\n",
        "for col in selected_data.columns:\n",
        "    freq[col] = selected_data[col].value_counts()\n",
        "freq"
      ],
      "metadata": {
        "id": "LjWcjfsUeNv-"
      },
      "execution_count": null,
      "outputs": []
    },
    {
      "cell_type": "code",
      "source": [
        "freq_table=pandas.DataFrame(freq)\n",
        "freq_table"
      ],
      "metadata": {
        "id": "YXNPBbCGe34F"
      },
      "execution_count": null,
      "outputs": []
    },
    {
      "cell_type": "code",
      "source": [
        "freq_table.T.plot(kind='barh', stacked=True)\n",
        "plt.legend(coding, bbox_to_anchor=(1.05,1))"
      ],
      "metadata": {
        "id": "Hl16jZ0Te8Iu"
      },
      "execution_count": null,
      "outputs": []
    },
    {
      "cell_type": "code",
      "source": [
        "'''\n",
        "H0 - there is no difference in all columns for all levels (1,2,3,4,5)\n",
        "Ha - there is difference\n",
        "'''"
      ],
      "metadata": {
        "id": "sWxGapATfNv4"
      },
      "execution_count": null,
      "outputs": []
    },
    {
      "cell_type": "markdown",
      "metadata": {
        "id": "l61L1ZnfgSwx"
      },
      "source": [
        "# Friedman Test\n",
        "*By P. Stikker*<br>\n"
      ]
    },
    {
      "cell_type": "markdown",
      "metadata": {
        "id": "gI2-5cfBgSwz"
      },
      "source": [
        "We could ask when we have multiple paired ordinal variables: Are there any differences between the scores?\n",
        "\n",
        "The test used to answer the question is usually a Friedman test (Friedman, 1937, 1939). This can be seen as an extension of the Wilcoxon signed rank test (although it is more an extension of the sign test). Where the Wilcoxon signed rank test is limited to two variables, the Friedmann test is an extension which will test all variables in one go."
      ]
    },
    {
      "cell_type": "code",
      "execution_count": null,
      "metadata": {
        "id": "dfwvyJakgSw3"
      },
      "outputs": [],
      "source": [
        "from scipy.stats import friedmanchisquare"
      ]
    },
    {
      "cell_type": "code",
      "execution_count": null,
      "metadata": {
        "id": "E6KdlaQ2gSw3"
      },
      "outputs": [],
      "source": [
        "spRes = friedmanchisquare(selected_data['Teach_Motivate'],selected_data['Teach_LinkTheory'],selected_data['Teach_StimAsk'],selected_data['Teach_Avail'],selected_data['Teach_StimDisc'],selected_data['Teach_Partic'],selected_data['Teach_Comp'])\n",
        "spRes"
      ]
    },
    {
      "cell_type": "code",
      "source": [
        "statistic=49.786063569682106\n",
        "pvalue=5.188917372956482e-09"
      ],
      "metadata": {
        "id": "LNg1GChng5Gi"
      },
      "execution_count": null,
      "outputs": []
    },
    {
      "cell_type": "markdown",
      "source": [
        "#Kendall W"
      ],
      "metadata": {
        "id": "KRMsRvGpigxr"
      }
    },
    {
      "cell_type": "code",
      "source": [
        "#n - no. of rows\n",
        "#k - number of cols\n",
        "\n",
        "n = selected_data.shape[0]\n",
        "k = selected_data.shape[1]\n",
        "\n",
        "W = statistic / (n * (k-1))\n",
        "W"
      ],
      "metadata": {
        "id": "vL9sJMu2iiUz"
      },
      "execution_count": null,
      "outputs": []
    },
    {
      "cell_type": "code",
      "source": [
        "'''\n",
        "0-0.3 : weak\n",
        "0.3-0.5: moderate\n",
        "0.5-0.7 : good\n",
        "0.7 - 1: strong\n",
        "'''"
      ],
      "metadata": {
        "id": "v2410YYDi2ZI"
      },
      "execution_count": null,
      "outputs": []
    }
  ]
}