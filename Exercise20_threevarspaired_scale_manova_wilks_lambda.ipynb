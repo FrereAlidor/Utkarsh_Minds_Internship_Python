{
  "nbformat": 4,
  "nbformat_minor": 0,
  "metadata": {
    "colab": {
      "private_outputs": true,
      "provenance": []
    },
    "kernelspec": {
      "name": "python3",
      "display_name": "Python 3"
    },
    "language_info": {
      "name": "python"
    }
  },
  "cells": [
    {
      "cell_type": "code",
      "execution_count": null,
      "metadata": {
        "id": "u53iLDm8kxT2"
      },
      "outputs": [],
      "source": [
        "'''\n",
        "three or more variable paired scale\n",
        "\n",
        "Statistical test type\n",
        "\n",
        "- paired : compare between variables (before and after), (compare multiple variables)\n",
        "- unpaired: relationship between variables\n",
        "'''"
      ]
    },
    {
      "cell_type": "code",
      "source": [
        "import numpy\n",
        "import pandas\n",
        "import matplotlib.pyplot as plt\n",
        "from sklearn.datasets import load_iris"
      ],
      "metadata": {
        "id": "XLO3eK1clpeu"
      },
      "execution_count": null,
      "outputs": []
    },
    {
      "cell_type": "code",
      "source": [
        "X, y = load_iris(return_X_y=True, as_frame=True)"
      ],
      "metadata": {
        "id": "gZlTnm5-lzu_"
      },
      "execution_count": null,
      "outputs": []
    },
    {
      "cell_type": "code",
      "source": [
        "X.head(n=10)"
      ],
      "metadata": {
        "id": "yON9denRmOEt"
      },
      "execution_count": null,
      "outputs": []
    },
    {
      "cell_type": "code",
      "source": [
        "y.head(n=3)"
      ],
      "metadata": {
        "id": "1vbrqfL3mPtd"
      },
      "execution_count": null,
      "outputs": []
    },
    {
      "cell_type": "code",
      "source": [
        "data = pandas.concat([X, y], axis=1)\n",
        "data"
      ],
      "metadata": {
        "id": "Mp1idL9TmQqb"
      },
      "execution_count": null,
      "outputs": []
    },
    {
      "cell_type": "code",
      "source": [
        "'''\n",
        "Iris-Setosa 0\n",
        "\n",
        "Iris-Versicolour 1\n",
        "\n",
        "Iris-Virginica 2\n",
        "'''\n",
        "data['target'].replace({0:'Setosa', 1:'Versicolor', 2: 'Virginica'}, inplace=True)"
      ],
      "metadata": {
        "id": "ek-BkdG_otu5"
      },
      "execution_count": null,
      "outputs": []
    },
    {
      "cell_type": "code",
      "source": [
        "data.columns"
      ],
      "metadata": {
        "id": "0RfdECjwpUle"
      },
      "execution_count": null,
      "outputs": []
    },
    {
      "cell_type": "code",
      "source": [
        "data.groupby('target').agg({\n",
        "    'sepal length (cm)': ['mean', 'std'],\n",
        "    'sepal width (cm)': ['mean', 'std'],\n",
        "    'petal length (cm)': ['mean', 'std'],\n",
        "    'petal width (cm)': ['mean', 'std']\n",
        "})"
      ],
      "metadata": {
        "id": "fIPqY5tepVTv"
      },
      "execution_count": null,
      "outputs": []
    },
    {
      "cell_type": "markdown",
      "source": [],
      "metadata": {
        "id": "HUJet3iMr0uh"
      }
    },
    {
      "cell_type": "markdown",
      "source": [
        "#Multivariate analysis of variance MANOVA"
      ],
      "metadata": {
        "id": "sIWohM3Kr00E"
      }
    },
    {
      "cell_type": "code",
      "source": [
        "from statsmodels.multivariate.manova import MANOVA"
      ],
      "metadata": {
        "id": "4E-_wQ_Ir4IL"
      },
      "execution_count": null,
      "outputs": []
    },
    {
      "cell_type": "code",
      "source": [
        "data.columns"
      ],
      "metadata": {
        "id": "6G-pm3g8r6ed"
      },
      "execution_count": null,
      "outputs": []
    },
    {
      "cell_type": "code",
      "source": [
        "data = data.rename(columns={\n",
        "    'sepal length (cm)':'sepal_length', 'sepal width (cm)':'sepal_width', 'petal length (cm)':'petal_length',\n",
        "       'petal width (cm)':'petal_width'\n",
        "})\n",
        "data"
      ],
      "metadata": {
        "id": "Kku0KlQ_sCSq"
      },
      "execution_count": null,
      "outputs": []
    },
    {
      "cell_type": "code",
      "source": [
        "data.columns"
      ],
      "metadata": {
        "id": "PLzglssFsXIz"
      },
      "execution_count": null,
      "outputs": []
    },
    {
      "cell_type": "code",
      "source": [
        "result = MANOVA.from_formula('sepal_length + sepal_width + petal_length + petal_width ~ target', data=data)\n",
        "print(result.mv_test())"
      ],
      "metadata": {
        "id": "x74dpqmksYJJ"
      },
      "execution_count": null,
      "outputs": []
    },
    {
      "cell_type": "code",
      "source": [
        "'''\n",
        "H0 - no difference in sepal_length,sepal_width,petal_length, petal_width for flower groups-setosa, virginica,vertose\n",
        "\n",
        "Ha - there is difference in sepal_length,sepal_width,petal_length, petal_width for flowers-setosa, virginica,vertose\n",
        "'''"
      ],
      "metadata": {
        "id": "16zdbiw9uWG6"
      },
      "execution_count": null,
      "outputs": []
    },
    {
      "cell_type": "code",
      "source": [
        "pvalue = 0.000\n",
        "'''\n",
        "         target          Value  Num DF  Den DF   F Value  Pr > F\n",
        "----------------------------------------------------------------\n",
        "          Wilks' lambda  0.0234 8.0000 288.0000  199.1453 0.0000\n",
        "\n",
        "null hypothesis rejected\n",
        "'''"
      ],
      "metadata": {
        "id": "DtYPxPL7vhOr"
      },
      "execution_count": null,
      "outputs": []
    },
    {
      "cell_type": "code",
      "source": [
        "wilks_lambda = 0.0234\n",
        "\n",
        "if wilks_lambda > 0.9:\n",
        "    print(\"Effect Size: Small\")\n",
        "elif wilks_lambda > 0.7:\n",
        "    print(\"Effect Size: Medium\")\n",
        "else:\n",
        "    print(\"Effect Size: Large\")"
      ],
      "metadata": {
        "id": "udYrxlIVwTIY"
      },
      "execution_count": null,
      "outputs": []
    }
  ]
}