{
  "nbformat": 4,
  "nbformat_minor": 0,
  "metadata": {
    "colab": {
      "private_outputs": true,
      "provenance": []
    },
    "kernelspec": {
      "name": "python3",
      "display_name": "Python 3"
    },
    "language_info": {
      "name": "python"
    }
  },
  "cells": [
    {
      "cell_type": "code",
      "execution_count": null,
      "metadata": {
        "id": "abVkCkpz2-LR"
      },
      "outputs": [],
      "source": [
        "#Paired test\n",
        "\n",
        "import numpy\n",
        "import pandas\n",
        "import matplotlib.pyplot as plt"
      ]
    },
    {
      "cell_type": "code",
      "source": [
        "'''\n",
        "Let's say you asked people which brand they prefer out of five (labelled A till E),\n",
        "then show them a commercial and ask the same question again.\n",
        "\n",
        "A,B,C,D,E\n",
        "\n",
        "Person  Before  After\n",
        "1        A        C\n",
        "2        C        C\n",
        "3        B        C\n",
        "\n",
        "Bhapkar test.\n",
        "'''"
      ],
      "metadata": {
        "id": "6EWu1NpB9UYf"
      },
      "execution_count": null,
      "outputs": []
    },
    {
      "cell_type": "code",
      "source": [
        "# Define categories\n",
        "categories = ['A', 'B', 'C', 'D', 'E']\n",
        "\n",
        "# Generate data for before and after intervention\n",
        "num_individuals = 50\n",
        "before_intervention = numpy.random.choice(categories, size=num_individuals)\n",
        "after_intervention = numpy.random.choice(categories, size=num_individuals)\n",
        "\n",
        "# Display the generated data\n",
        "print(\"Before Intervention:\")\n",
        "print(before_intervention)\n",
        "print(\"\\nAfter Intervention:\")\n",
        "print(after_intervention)"
      ],
      "metadata": {
        "id": "9fj24ptr-Qca"
      },
      "execution_count": null,
      "outputs": []
    },
    {
      "cell_type": "code",
      "source": [
        "data = pandas.DataFrame({\n",
        "    'before': before_intervention,\n",
        "    'after': after_intervention\n",
        "})\n",
        "data"
      ],
      "metadata": {
        "id": "1HcvS349BEYJ"
      },
      "execution_count": null,
      "outputs": []
    },
    {
      "cell_type": "code",
      "source": [
        "crosstable = pandas.crosstab(data['before'], data['after'])\n",
        "crosstable"
      ],
      "metadata": {
        "id": "aAOpY-NuBby8"
      },
      "execution_count": null,
      "outputs": []
    },
    {
      "cell_type": "code",
      "source": [
        "crosstable.plot(kind='bar')"
      ],
      "metadata": {
        "id": "Upm-yMCbCeY2"
      },
      "execution_count": null,
      "outputs": []
    },
    {
      "cell_type": "code",
      "source": [
        "#Bhapkar test\n",
        "'''\n",
        "H0 - there is no effect of the event\n",
        "Ha - there is effect of the event\n",
        "'''"
      ],
      "metadata": {
        "id": "TSVjz0XJCjBJ"
      },
      "execution_count": null,
      "outputs": []
    },
    {
      "cell_type": "code",
      "source": [
        "from statsmodels.stats.api import SquareTable"
      ],
      "metadata": {
        "id": "UPERkK_4EQDF"
      },
      "execution_count": null,
      "outputs": []
    },
    {
      "cell_type": "code",
      "source": [
        "'''\n",
        "pvalue > 0.05 so null hypothesis not rejected and result is not significant\n",
        "'''\n",
        "print(SquareTable(crosstable, shift_zeros=False).homogeneity(method='bhapkar'))"
      ],
      "metadata": {
        "id": "1_xLIqZuEiH-"
      },
      "execution_count": null,
      "outputs": []
    },
    {
      "cell_type": "code",
      "source": [],
      "metadata": {
        "id": "qV7zcxSyIdvN"
      },
      "execution_count": null,
      "outputs": []
    }
  ]
}