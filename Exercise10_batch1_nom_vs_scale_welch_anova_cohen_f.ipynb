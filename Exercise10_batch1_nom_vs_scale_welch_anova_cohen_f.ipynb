{
  "nbformat": 4,
  "nbformat_minor": 0,
  "metadata": {
    "colab": {
      "private_outputs": true,
      "provenance": []
    },
    "kernelspec": {
      "name": "python3",
      "display_name": "Python 3"
    },
    "language_info": {
      "name": "python"
    }
  },
  "cells": [
    {
      "cell_type": "code",
      "execution_count": null,
      "metadata": {
        "id": "bZ64QtzWArSt"
      },
      "outputs": [],
      "source": [
        "'''\n",
        "nominal var has influence on the scale variable\n",
        "\n",
        "nominal var is school location\n",
        "\n",
        "scale var is the marks of students in the exam\n",
        "'''"
      ]
    },
    {
      "cell_type": "code",
      "source": [
        "import pandas\n",
        "import numpy\n",
        "import matplotlib.pyplot as plt"
      ],
      "metadata": {
        "id": "EdmT0QGVCKrX"
      },
      "execution_count": null,
      "outputs": []
    },
    {
      "cell_type": "code",
      "source": [
        "mydata = pandas.read_csv('/content/StudentStatistics.csv', sep=';')\n",
        "mydata"
      ],
      "metadata": {
        "id": "Vt13s0x1Ceol"
      },
      "execution_count": null,
      "outputs": []
    },
    {
      "cell_type": "code",
      "source": [
        "'Location'\n",
        "'Over_Grade'"
      ],
      "metadata": {
        "id": "5lO_wpHDCk7e"
      },
      "execution_count": null,
      "outputs": []
    },
    {
      "cell_type": "code",
      "source": [
        "mydata.groupby('Location')['Over_Grade'].mean()"
      ],
      "metadata": {
        "id": "T21A31D5FACb"
      },
      "execution_count": null,
      "outputs": []
    },
    {
      "cell_type": "code",
      "source": [
        "mydata.groupby('Location')['Over_Grade'].std()"
      ],
      "metadata": {
        "id": "9_6-dPP6FRgx"
      },
      "execution_count": null,
      "outputs": []
    },
    {
      "cell_type": "code",
      "source": [
        "mydata.groupby('Location')['Over_Grade'].agg(['mean', 'median', 'std', 'min', 'max'])"
      ],
      "metadata": {
        "id": "SIOcbOcWFWcJ"
      },
      "execution_count": null,
      "outputs": []
    },
    {
      "cell_type": "code",
      "source": [
        "rotterdamScores = mydata['Over_Grade'][mydata['Location']=='Rotterdam'].dropna()\n",
        "diemenScores = mydata['Over_Grade'][mydata['Location']=='Diemen'].dropna()\n",
        "haarlemScores = mydata['Over_Grade'][mydata['Location']=='Haarlem'].dropna()"
      ],
      "metadata": {
        "id": "b7twwCb_GfTD"
      },
      "execution_count": null,
      "outputs": []
    },
    {
      "cell_type": "code",
      "source": [
        "plt.figure(1, figsize=(10,10))\n",
        "\n",
        "plt.subplot(3,1,1)\n",
        "plt.hist(rotterdamScores, color='skyblue', edgecolor='green', lw=3, bins = [10, 20, 30, 40, 50, 60, 70, 80, 90, 100])\n",
        "plt.xlabel('Rotterdam')\n",
        "plt.ylabel('Frequency')\n",
        "\n",
        "plt.subplot(3,1,2)\n",
        "plt.hist(diemenScores, color='skyblue', edgecolor='green', lw=3, bins = [10, 20, 30, 40, 50, 60, 70, 80, 90, 100])\n",
        "plt.xlabel('Diemen')\n",
        "plt.ylabel('Frequency')\n",
        "\n",
        "\n",
        "plt.subplot(3,1,3)\n",
        "plt.hist(haarlemScores, color='skyblue', edgecolor='green', lw=3, bins = [10, 20, 30, 40, 50, 60, 70, 80, 90, 100])\n",
        "plt.xlabel('Haarlem')\n",
        "plt.ylabel('Frequency')\n",
        "plt.show()"
      ],
      "metadata": {
        "id": "ZMkf2LsgIfzt"
      },
      "execution_count": null,
      "outputs": []
    },
    {
      "cell_type": "markdown",
      "source": [
        "#Welch ANOVA"
      ],
      "metadata": {
        "id": "OTfDwoTdLiYR"
      }
    },
    {
      "cell_type": "markdown",
      "source": [
        "This is a test that is often used to determine if there are differences in means between different categories.\n",
        "\n",
        "The Welch test for means is often used if the variances within the groups are not equal. There are other tests though (Brown-Forsythe, James, Alexander-Govern, etc) that also do this. Delacre et al. (2019) recommend to use the Welch ANOVA instead of the classic and Brown-Forsythe versions, but there are many articles on the topic of which test to use and each with slightly different recommendations.  \n",
        "\n",
        "The test is actually a modification of the Cochran test for means (separate file on that). The test is also sometimes referred to as the Aspin-Welch test, to credit besides Welch (1947, 1951), also Aspin (Aspin, 1948; Aspin & Welch, 1949).\n",
        "\n",
        "There a few different ways you can do this test with Python. If you have a pandas dataframe, the easiest method (in my opinion) is by using the Pingouin package or the statsmodels.api. You can simply let it know which fields are involved and basically you're done.\n",
        "\n",
        "I'll show an example for both, and in the appendix how you can even avoid almost entirely packages by going over the formulas involved (it still needs a package for the F-distribution, which would go too far to also do without a package).\n",
        "\n",
        "Lets get started."
      ],
      "metadata": {
        "id": "JEjI-DJmLdOE"
      }
    },
    {
      "cell_type": "code",
      "source": [
        "'''\n",
        "H0 - there is no influence of student location on the marks\n",
        "Ha - there is influence of student location on the marks\n",
        "\n",
        "'''"
      ],
      "metadata": {
        "id": "hsu0pEPGKJ0P"
      },
      "execution_count": null,
      "outputs": []
    },
    {
      "cell_type": "code",
      "source": [
        "!pip install pingouin"
      ],
      "metadata": {
        "id": "CKwYooHzLS2v"
      },
      "execution_count": null,
      "outputs": []
    },
    {
      "cell_type": "code",
      "source": [
        "import pingouin as pin"
      ],
      "metadata": {
        "id": "v2IbMlkMLJVk"
      },
      "execution_count": null,
      "outputs": []
    },
    {
      "cell_type": "code",
      "source": [
        "pin.welch_anova(dv='Over_Grade', between='Location', data=mydata)"
      ],
      "metadata": {
        "id": "wwmdOVv5LX2f"
      },
      "execution_count": null,
      "outputs": []
    },
    {
      "cell_type": "code",
      "source": [
        "#null hypothesis is rejected and test is significant\n",
        "pvalue = 0.000536"
      ],
      "metadata": {
        "id": "tlRPK-q3LRPy"
      },
      "execution_count": null,
      "outputs": []
    },
    {
      "cell_type": "markdown",
      "source": [
        "The most commonly reported effect size that goes with a one-way ANOVA is eta-squared (η<sup>2</sup>) (Bakeman, 2005; Levine & Hullett, 2002) although omega squared (ω<sup>2</sup>) might actually be preferred.\n",
        "\n",
        "An eta square of 0 would mean no differences (and no influence), while 1 would indicate a full dependency. Unfortunately there is no formal way to determine if a specific value is high or low, and the rules of thumb floating around on the internet vary quite a lot, often depending on the field (e.g. biology, medicine, business, etc.).  One of them is from Cohen (1988):\n",
        "\n",
        "|η<sup>2</sup>|Interpretation|\n",
        "|-------|---------------|\n",
        "|0.00 < 0.01|Negligible|\n",
        "|0.01 < 0.06|Small|\n",
        "|0.06 < 0.14|Medium|\n",
        "|0.14 <= 1.00|Large|\n",
        "\n",
        "*Note that Cohen actually uses another effect size (Cohen's f) for which he reports the rules of thumb on pages 285-287, on page 283 he has a formula to convert f to eta-squared. I've converted the threholds using that formula.*\n",
        "\n",
        "Lets find out on how to determine eta-squared with Python."
      ],
      "metadata": {
        "id": "fXfKCFxUM3Jh"
      }
    },
    {
      "cell_type": "code",
      "source": [
        "#np2 - partial eta square\n",
        "\n",
        "etaSq = 0.263336\n",
        "\n",
        "if etaSq < .01:\n",
        "    qual = 'Negligible'\n",
        "elif etaSq < .06:\n",
        "    qual = 'Small'\n",
        "elif etaSq < .14:\n",
        "    qual = 'Medium'\n",
        "else:\n",
        "    qual = 'Large'\n",
        "\n",
        "qual"
      ],
      "metadata": {
        "id": "2PsWq9YRM3tu"
      },
      "execution_count": null,
      "outputs": []
    },
    {
      "cell_type": "code",
      "source": [
        "len(rotterdamScores) + len(haarlemScores) + len(diemenScores)"
      ],
      "metadata": {
        "id": "Exqr_zduOFoP"
      },
      "execution_count": null,
      "outputs": []
    },
    {
      "cell_type": "markdown",
      "source": [
        "The Welch ANOVA showed that Location had significant large effect on how students get marks in the test, F(2, 48) = 10.195117, p = .001, η2 = .26."
      ],
      "metadata": {
        "id": "Y72OicXBNrCs"
      }
    }
  ]
}