{
  "nbformat": 4,
  "nbformat_minor": 0,
  "metadata": {
    "colab": {
      "private_outputs": true,
      "provenance": []
    },
    "kernelspec": {
      "name": "python3",
      "display_name": "Python 3"
    },
    "language_info": {
      "name": "python"
    }
  },
  "cells": [
    {
      "cell_type": "code",
      "execution_count": null,
      "metadata": {
        "id": "cc75ARhCgOEk"
      },
      "outputs": [],
      "source": [
        "import pandas"
      ]
    },
    {
      "cell_type": "code",
      "source": [
        "mydata = pandas.read_csv('GSS2012a.csv')"
      ],
      "metadata": {
        "id": "jupYrEHZhQpJ"
      },
      "execution_count": null,
      "outputs": []
    },
    {
      "cell_type": "code",
      "source": [
        "mydata"
      ],
      "metadata": {
        "id": "i5WRRQgMhYOu"
      },
      "execution_count": null,
      "outputs": []
    },
    {
      "cell_type": "code",
      "source": [
        "#rows=1974\n",
        "#columns=706\n",
        "mydata.shape"
      ],
      "metadata": {
        "id": "qVBrgMMChahG"
      },
      "execution_count": null,
      "outputs": []
    },
    {
      "cell_type": "code",
      "source": [
        "result = mydata['mar1'].value_counts()"
      ],
      "metadata": {
        "id": "CygoeTeeher-"
      },
      "execution_count": null,
      "outputs": []
    },
    {
      "cell_type": "code",
      "source": [
        "#pandas series\n",
        "result"
      ],
      "metadata": {
        "id": "iRGL1gbriZds"
      },
      "execution_count": null,
      "outputs": []
    },
    {
      "cell_type": "code",
      "source": [
        "result_keys = result.keys()\n",
        "result_values = result.values\n",
        "myfreqTable = pandas.DataFrame({'status':result_keys, 'freq': result.values})"
      ],
      "metadata": {
        "id": "h_yyvUGKiO8K"
      },
      "execution_count": null,
      "outputs": []
    },
    {
      "cell_type": "code",
      "source": [
        "myfreqTable"
      ],
      "metadata": {
        "id": "sAnE-_ZvjPjK"
      },
      "execution_count": null,
      "outputs": []
    },
    {
      "cell_type": "code",
      "source": [
        "myfreqTable['Percent'] = (myfreqTable['freq']/myfreqTable['freq'].sum())*100"
      ],
      "metadata": {
        "id": "MKX2pvtejgH_"
      },
      "execution_count": null,
      "outputs": []
    },
    {
      "cell_type": "code",
      "source": [
        "myfreqTable"
      ],
      "metadata": {
        "id": "DIxSXp88jsz1"
      },
      "execution_count": null,
      "outputs": []
    },
    {
      "cell_type": "code",
      "source": [
        "myfreqTable['Cumulative'] = myfreqTable['freq'].cumsum()"
      ],
      "metadata": {
        "id": "h924p_-Vkc7m"
      },
      "execution_count": null,
      "outputs": []
    },
    {
      "cell_type": "code",
      "source": [
        "myfreqTable"
      ],
      "metadata": {
        "id": "rIaFnPhSkkoA"
      },
      "execution_count": null,
      "outputs": []
    },
    {
      "cell_type": "code",
      "source": [
        "import matplotlib.pyplot as plt"
      ],
      "metadata": {
        "id": "3pVPeq3clu3z"
      },
      "execution_count": null,
      "outputs": []
    },
    {
      "cell_type": "code",
      "source": [
        "plt.bar(myfreqTable['status'], myfreqTable['freq'])"
      ],
      "metadata": {
        "id": "X04szt1tl6qn"
      },
      "execution_count": null,
      "outputs": []
    },
    {
      "cell_type": "code",
      "source": [
        "import seaborn"
      ],
      "metadata": {
        "id": "FB1JhK07mNz1"
      },
      "execution_count": null,
      "outputs": []
    },
    {
      "cell_type": "code",
      "source": [
        "seaborn.barplot(x='status',y='freq',data=myfreqTable)"
      ],
      "metadata": {
        "id": "24VrXZpcm53x"
      },
      "execution_count": null,
      "outputs": []
    },
    {
      "cell_type": "code",
      "source": [
        "plt.pie(myfreqTable['freq'], labels = myfreqTable['status'])"
      ],
      "metadata": {
        "id": "KTKC2Oz8n0f-"
      },
      "execution_count": null,
      "outputs": []
    },
    {
      "cell_type": "code",
      "source": [
        "seaborn.stripplot(x='status', y='freq', data=myfreqTable)"
      ],
      "metadata": {
        "id": "0gR5cB-Koz2e"
      },
      "execution_count": null,
      "outputs": []
    },
    {
      "cell_type": "markdown",
      "source": [
        "# Pareto chart"
      ],
      "metadata": {
        "id": "tINPq_QsyGWf"
      }
    },
    {
      "cell_type": "code",
      "source": [
        "myfreqTable"
      ],
      "metadata": {
        "id": "NKAa9Z9YyH9q"
      },
      "execution_count": null,
      "outputs": []
    },
    {
      "cell_type": "code",
      "source": [
        "myfreqTable"
      ],
      "metadata": {
        "id": "eyO0FX32znS8"
      },
      "execution_count": null,
      "outputs": []
    },
    {
      "cell_type": "code",
      "source": [
        "fig, ax1 = plt.subplots()\n",
        "\n",
        "myfreqTable['Cumulative_percentage'] = (myfreqTable['freq'].cumsum() / myfreqTable['freq'].sum()) * 100\n",
        "\n",
        "ax1.bar(myfreqTable['status'], myfreqTable['freq'])\n",
        "\n",
        "ax2 = ax1.twinx()\n",
        "ax2.plot(myfreqTable['status'], myfreqTable['Cumulative_percentage'])"
      ],
      "metadata": {
        "id": "av-cyop1yhjh"
      },
      "execution_count": null,
      "outputs": []
    },
    {
      "cell_type": "code",
      "source": [
        "#Summary for nominal data - Mode\n",
        "\n",
        "from statistics import mode\n",
        "\n",
        "mode(mydata['mar1'])"
      ],
      "metadata": {
        "id": "cpBGzg7i0W5W"
      },
      "execution_count": null,
      "outputs": []
    },
    {
      "cell_type": "code",
      "source": [
        "# Q find the mode for column 'life'\n",
        "\n",
        "mode(mydata['wrkslf'])"
      ],
      "metadata": {
        "id": "feYWr3j91ecG"
      },
      "execution_count": null,
      "outputs": []
    },
    {
      "cell_type": "code",
      "source": [
        "mydata['wrkslf'].value_counts()"
      ],
      "metadata": {
        "id": "gyqvXUQ02yAL"
      },
      "execution_count": null,
      "outputs": []
    },
    {
      "cell_type": "code",
      "source": [
        "#unimodal - one mode\n",
        "#bimodal - two modes\n",
        "#trimodal- three modes"
      ],
      "metadata": {
        "id": "dBEQU3Jr22UR"
      },
      "execution_count": null,
      "outputs": []
    },
    {
      "cell_type": "code",
      "source": [
        "#Variation ratio\n",
        "\n",
        "vr = 100 - 50.077280\n",
        "vr"
      ],
      "metadata": {
        "id": "fLm-UT5m3ZY3"
      },
      "execution_count": null,
      "outputs": []
    },
    {
      "cell_type": "code",
      "source": [
        "#H0 - All categories are equal or each category had the same number of respondents (i.e. the same percentage)\n",
        "#Ha - all categories are unequal\n",
        "\n",
        "#Pearson chi-square goodness-of-fit test"
      ],
      "metadata": {
        "id": "MJheLk_B3nBV"
      },
      "execution_count": null,
      "outputs": []
    },
    {
      "cell_type": "code",
      "source": [
        "countTable = mydata['mar1'].value_counts()"
      ],
      "metadata": {
        "id": "mp92_pe_433T"
      },
      "execution_count": null,
      "outputs": []
    },
    {
      "cell_type": "code",
      "source": [
        "countTable"
      ],
      "metadata": {
        "id": "slqpExFs49bn"
      },
      "execution_count": null,
      "outputs": []
    },
    {
      "cell_type": "code",
      "source": [
        "from scipy.stats import chisquare"
      ],
      "metadata": {
        "id": "kzw6TXUh5AD4"
      },
      "execution_count": null,
      "outputs": []
    },
    {
      "cell_type": "code",
      "source": [
        "chisquare(countTable)"
      ],
      "metadata": {
        "id": "Mf5CxcpM5DYw"
      },
      "execution_count": null,
      "outputs": []
    },
    {
      "cell_type": "code",
      "source": [
        "pvalue = 3.564167265021484e-269"
      ],
      "metadata": {
        "id": "bpqk9gIh5H5H"
      },
      "execution_count": null,
      "outputs": []
    },
    {
      "cell_type": "code",
      "source": [
        "#3.5 * 10^-269"
      ],
      "metadata": {
        "id": "dVbvlrLQ5LBw"
      },
      "execution_count": null,
      "outputs": []
    },
    {
      "cell_type": "code",
      "source": [
        "#degree of freedom = number of categories - 1\n",
        "#N = sample size = number of rows"
      ],
      "metadata": {
        "id": "i91CHCS_53HE"
      },
      "execution_count": null,
      "outputs": []
    },
    {
      "cell_type": "code",
      "source": [
        "#A chi-square test of goodness-of-fit was performed to determine whether the marital status were equally chosen.\n",
        "#The marital status was not\n",
        "#equally distributed in the population, χ2(df = 4, N = 1941) = 1249.13, p < 3.564167265021484e-269"
      ],
      "metadata": {
        "id": "0SQVwBHX5htT"
      },
      "execution_count": null,
      "outputs": []
    },
    {
      "cell_type": "code",
      "source": [
        "mydata['wrkstat'].value_counts()"
      ],
      "metadata": {
        "id": "2WzbjTMt7WZL"
      },
      "execution_count": null,
      "outputs": []
    },
    {
      "cell_type": "code",
      "source": [
        "#Effect size - Cramers V\n",
        "\n",
        "chisquare = 1249.1262235960844\n",
        "n = 1941\n",
        "df = 4\n",
        "\n",
        "cv = (chisquare / (n * df)) ** 0.5\n",
        "cv"
      ],
      "metadata": {
        "id": "bTFq33gi7anP"
      },
      "execution_count": null,
      "outputs": []
    },
    {
      "cell_type": "code",
      "source": [],
      "metadata": {
        "id": "DubcB5GN8NWl"
      },
      "execution_count": null,
      "outputs": []
    }
  ]
}