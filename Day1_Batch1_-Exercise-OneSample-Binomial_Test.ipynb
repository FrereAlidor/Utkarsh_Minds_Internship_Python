{
  "nbformat": 4,
  "nbformat_minor": 0,
  "metadata": {
    "colab": {
      "private_outputs": true,
      "provenance": []
    },
    "kernelspec": {
      "name": "python3",
      "display_name": "Python 3"
    },
    "language_info": {
      "name": "python"
    }
  },
  "cells": [
    {
      "cell_type": "code",
      "source": [
        "import pandas"
      ],
      "metadata": {
        "id": "b0k2JSiB_YTa"
      },
      "execution_count": null,
      "outputs": []
    },
    {
      "cell_type": "code",
      "source": [
        "#to read and store files in variable\n",
        "####sdfjdgdfgdfgdfgdf\n",
        "#this is a comment\n",
        "\n",
        "myfiles=pandas.read_csv('/content/GSS2012a.csv')"
      ],
      "metadata": {
        "id": "nXfK4TOUATpD"
      },
      "execution_count": null,
      "outputs": []
    },
    {
      "cell_type": "code",
      "source": [
        "myfiles"
      ],
      "metadata": {
        "id": "BIQXI7TOA4SE"
      },
      "execution_count": null,
      "outputs": []
    },
    {
      "cell_type": "code",
      "source": [
        "myfiles['mar1'].value_counts()"
      ],
      "metadata": {
        "id": "O0McdjkVA5TG"
      },
      "execution_count": null,
      "outputs": []
    },
    {
      "cell_type": "code",
      "source": [
        "#sex column\n",
        "myfiles['sex'].value_counts()"
      ],
      "metadata": {
        "id": "l5GeNniNEY09"
      },
      "execution_count": null,
      "outputs": []
    },
    {
      "cell_type": "code",
      "source": [
        "#normalize - then i will get percentage\n",
        "\n",
        "myfiles['zodiac'].value_counts(normalize=True)"
      ],
      "metadata": {
        "id": "o7KcJBC8FKzh"
      },
      "execution_count": null,
      "outputs": []
    },
    {
      "cell_type": "code",
      "source": [
        "myfiles['BMITZVAH'].value_counts()"
      ],
      "metadata": {
        "id": "JZj-D9RWFPgB"
      },
      "execution_count": null,
      "outputs": []
    },
    {
      "cell_type": "code",
      "source": [
        "myfiles.describe(include='object')"
      ],
      "metadata": {
        "id": "z4peSW8ZGP2i"
      },
      "execution_count": null,
      "outputs": []
    },
    {
      "cell_type": "code",
      "source": [
        "# read the csv - StudentStatistics.csv\n",
        "\n",
        "#value counts of Gen_Gender"
      ],
      "metadata": {
        "id": "oKTJt6qIGnfS"
      },
      "execution_count": null,
      "outputs": []
    },
    {
      "cell_type": "code",
      "source": [
        "studentdata = pandas.read_csv('StudentStatistics.csv', sep=';')"
      ],
      "metadata": {
        "id": "fk7S2GXsH2Zb"
      },
      "execution_count": null,
      "outputs": []
    },
    {
      "cell_type": "code",
      "source": [
        "studentdata"
      ],
      "metadata": {
        "id": "B06NRPltJP6r"
      },
      "execution_count": null,
      "outputs": []
    },
    {
      "cell_type": "code",
      "source": [
        "studentdata['Gen_Gender'].value_counts()"
      ],
      "metadata": {
        "id": "V0XGDLI9JRNo"
      },
      "execution_count": null,
      "outputs": []
    },
    {
      "cell_type": "code",
      "source": [
        "from scipy.stats import binom_test"
      ],
      "metadata": {
        "id": "YbCwV_xrKkvl"
      },
      "execution_count": null,
      "outputs": []
    },
    {
      "cell_type": "code",
      "source": [
        "# x = total count in category 1\n",
        "# n = total number of people\n",
        "# p = probability of each category in null hypothesis\n",
        "\n",
        "#H0 - null hypothesis - male to female is balanced\n",
        "#Ha - alternate hypothesis - male to female is not balanced\n",
        "\n",
        "binom_test(x = 34, n = 46, p = 0.5)"
      ],
      "metadata": {
        "id": "zYf1Xfw8MLWJ"
      },
      "execution_count": null,
      "outputs": []
    },
    {
      "cell_type": "code",
      "source": [
        "#probability value\n",
        "#probability that null hypothesis is true\n",
        "#probability that sample is balanced\n",
        "\n",
        "p_value = 0.0016414913408482334\n",
        "#0.1%\n",
        "\n",
        "#Conclusion - the null hypothesis is rejected."
      ],
      "metadata": {
        "id": "3zZ2gGKKO1A6"
      },
      "execution_count": null,
      "outputs": []
    },
    {
      "cell_type": "code",
      "source": [
        "binom_test(x = 20, n = 46, p = 0.5)"
      ],
      "metadata": {
        "id": "V3oJECXrP4Rn"
      },
      "execution_count": null,
      "outputs": []
    },
    {
      "cell_type": "code",
      "source": [
        "p_value_case2 = 0.46\n",
        "#46%\n",
        "\n",
        "#Conclusion - null hypothesis cannot be rejected."
      ],
      "metadata": {
        "id": "rlWc3GhqP7l7"
      },
      "execution_count": null,
      "outputs": []
    },
    {
      "cell_type": "code",
      "source": [
        "#pvalue =< 0.05 (result is significant)\n",
        "#Sample and population both show that null hypothesis is rejected\n",
        "\n",
        "#pvalue > 0.05 (result is not significant) null hypothesis cannot be rejected"
      ],
      "metadata": {
        "id": "7rWbwk-5QuqE"
      },
      "execution_count": null,
      "outputs": []
    },
    {
      "cell_type": "markdown",
      "source": [
        "#coin A - heads 190 and tails 10\n",
        "#coin B - heads 108 and tails 92\n",
        "\n"
      ],
      "metadata": {
        "id": "ozZfl0OCUSCo"
      }
    },
    {
      "cell_type": "code",
      "source": [
        "#Null and alternate hypothesis\n",
        "#Perform test\n",
        "#Conclusion"
      ],
      "metadata": {
        "id": "BKnYZzTVUb-y"
      },
      "execution_count": null,
      "outputs": []
    },
    {
      "cell_type": "code",
      "source": [
        "binom_test(x = 190, n = 200, p = 0.5)"
      ],
      "metadata": {
        "id": "jCbxBhPLVup7"
      },
      "execution_count": null,
      "outputs": []
    },
    {
      "cell_type": "code",
      "source": [
        "#null hypothesis is rejected because result is significant pvalue <0.05\n",
        "#2.9 * 10^-44 = nearly 0"
      ],
      "metadata": {
        "id": "uVV2FadXV3l3"
      },
      "execution_count": null,
      "outputs": []
    },
    {
      "cell_type": "code",
      "source": [
        "binom_test(x = 108, n = 200, p = 0.5)"
      ],
      "metadata": {
        "id": "WUP2qZlNVzIo"
      },
      "execution_count": null,
      "outputs": []
    },
    {
      "cell_type": "code",
      "source": [
        "#null hypothesis is not rejected because result is not significant pvalue > 0.05"
      ],
      "metadata": {
        "id": "rRVjfIlmV1HM"
      },
      "execution_count": null,
      "outputs": []
    },
    {
      "cell_type": "markdown",
      "source": [
        "#Questions\n",
        "\n",
        "In a school, 80 out of 100 students passed a math exam. The national average pass rate for this math exam is 50%. Can we conclude that the school has a significantly different pass rate than the national average?"
      ],
      "metadata": {
        "id": "-4AXGkwEYWcC"
      }
    },
    {
      "cell_type": "code",
      "source": [
        "#H0 - school does not have higher pass rate than national average\n",
        "#Ha - school has higher pass rate than national average"
      ],
      "metadata": {
        "id": "1W88wFCHYX4h"
      },
      "execution_count": null,
      "outputs": []
    },
    {
      "cell_type": "code",
      "source": [
        "x = 20\n",
        "n = 100\n",
        "p = 0.5\n",
        "\n",
        "binom_test(x,n,p)"
      ],
      "metadata": {
        "id": "xSXjctBTZVAD"
      },
      "execution_count": null,
      "outputs": []
    },
    {
      "cell_type": "code",
      "source": [
        "p_value = 1.1159089057251951e-09\n",
        "#1.1 * 10^-9\n",
        "#null hypothesis is rejected and school has higher pass rate than national average"
      ],
      "metadata": {
        "id": "AB51wKgQZcCi"
      },
      "execution_count": null,
      "outputs": []
    },
    {
      "cell_type": "markdown",
      "source": [
        "Suppose you are interested in testing whether the percentage of customers who make a purchase after viewing a product on an e-commerce website is significantly different from the industry average of 25%. You collected data from a sample of 80 customers, and 30 of them made a purchase. You want to perform a one-sample binomial test to assess whether the website's conversion rate is significantly different from the industry average."
      ],
      "metadata": {
        "id": "JhvuPTLGaGTn"
      }
    },
    {
      "cell_type": "code",
      "source": [
        "p = 0.25\n",
        "x = 30\n",
        "n=80\n",
        "binom_test(x,n,p)"
      ],
      "metadata": {
        "id": "dU6L3soka7E1"
      },
      "execution_count": null,
      "outputs": []
    },
    {
      "cell_type": "code",
      "source": [
        "pvalue = 0.013598962816420208\n",
        "#null hypothesis is rejected"
      ],
      "metadata": {
        "id": "EHmn6sORbKYH"
      },
      "execution_count": null,
      "outputs": []
    },
    {
      "cell_type": "code",
      "source": [
        "#Effect size\n",
        "\n",
        "ratio = x/n\n",
        "expected_probability = p\n",
        "\n",
        "effect_size = abs(ratio - expected_probability)\n",
        "effect_size"
      ],
      "metadata": {
        "id": "QAvUpCL6cKWs"
      },
      "execution_count": null,
      "outputs": []
    },
    {
      "cell_type": "code",
      "source": [
        "#effect size is calculated only when result is significant i.e. pvalue <= 0.05"
      ],
      "metadata": {
        "id": "BB97LcngcfVR"
      },
      "execution_count": null,
      "outputs": []
    },
    {
      "cell_type": "code",
      "source": [
        "#website's conversion rate is significantly different from the industry average\n",
        "# (pvalue = 0.0135)\n",
        "#but the difference is small (Cohen g = 0.125)"
      ],
      "metadata": {
        "id": "KYMKltmBdWi4"
      },
      "execution_count": null,
      "outputs": []
    },
    {
      "cell_type": "code",
      "source": [
        "#website's conversion rate is not significantly different from the industry average\n",
        "#(pvalue = 0.6)"
      ],
      "metadata": {
        "id": "6UIbrhENdj_5"
      },
      "execution_count": null,
      "outputs": []
    },
    {
      "cell_type": "markdown",
      "source": [
        "#One tail one sample binomial test"
      ],
      "metadata": {
        "id": "LFEhvffxeXgb"
      }
    },
    {
      "cell_type": "code",
      "source": [
        "'''\n",
        "Null Hypothesis (H₀): The proportion of students passing the difficult exam at\n",
        "the school is equal to the national average (p = 0.25).\n",
        "\n",
        "Alternate Hypothesis (H₁): The proportion of students passing the\n",
        "difficult exam at the school is significantly lesser than the\n",
        "national average (p > 0.60).\n",
        "'''\n",
        "\n",
        "p = 0.6\n",
        "x = 30\n",
        "n=80\n",
        "binom_test(x,n,p, alternative='less')\n",
        "\n"
      ],
      "metadata": {
        "id": "mdwbz5vdeGNm"
      },
      "execution_count": null,
      "outputs": []
    },
    {
      "cell_type": "code",
      "source": [
        "'''\n",
        "Null Hypothesis (H₀): The proportion of students passing the difficult exam at\n",
        "the school is equal to the national average (p = 0.25).\n",
        "\n",
        "Alternate Hypothesis (H₁): The proportion of students passing the\n",
        "difficult exam at the school is significantly higher than the\n",
        "national average (p > 0.60).\n",
        "'''\n",
        "\n",
        "p = 0.25\n",
        "x = 30\n",
        "n=80\n",
        "binom_test(x,n,p, alternative='greater')"
      ],
      "metadata": {
        "id": "djWee8IzeOBM"
      },
      "execution_count": null,
      "outputs": []
    }
  ]
}