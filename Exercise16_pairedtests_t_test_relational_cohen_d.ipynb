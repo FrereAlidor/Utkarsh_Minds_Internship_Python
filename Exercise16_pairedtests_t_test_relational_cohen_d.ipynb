{
  "nbformat": 4,
  "nbformat_minor": 0,
  "metadata": {
    "colab": {
      "private_outputs": true,
      "provenance": []
    },
    "kernelspec": {
      "name": "python3",
      "display_name": "Python 3"
    },
    "language_info": {
      "name": "python"
    }
  },
  "cells": [
    {
      "cell_type": "code",
      "execution_count": null,
      "metadata": {
        "id": "xnaVo8kQd0pB"
      },
      "outputs": [],
      "source": [
        "'''\n",
        "paired test on scale data\n",
        "\n",
        "Event - workshop, training, magic\n",
        "\n",
        "\n",
        "Person      Before          After\n",
        "A           12              15\n",
        "B           14              23\n",
        "C           16              16\n",
        "\n",
        "H0 - null hypothesis -    no effect of event\n",
        "Ha - alternate hypothesis -  there is effect of event\n",
        "'''"
      ]
    },
    {
      "cell_type": "code",
      "source": [
        "import numpy as np\n",
        "import pandas\n",
        "import matplotlib.pyplot as plt\n",
        "\n",
        "# Set random seed for reproducibility\n",
        "np.random.seed(0)\n",
        "\n",
        "# Generate paired scale values for weight before and after intervention\n",
        "num_individuals = 50\n",
        "weight_before = np.random.normal(loc=70, scale=10, size=num_individuals)  # Mean weight before intervention: 70 kg, Standard deviation: 10 kg\n",
        "weight_after = weight_before + np.random.normal(loc=-2, scale=3, size=num_individuals)  # Assuming an average weight loss of 2 kg with some variability\n",
        "\n",
        "# Display the generated data\n",
        "print(\"Weight Before Intervention:\")\n",
        "print(weight_before)\n",
        "print(\"\\nWeight After Intervention:\")\n",
        "print(weight_after)\n"
      ],
      "metadata": {
        "id": "o5918djgfeVz"
      },
      "execution_count": null,
      "outputs": []
    },
    {
      "cell_type": "code",
      "source": [
        "data = pandas.DataFrame({\n",
        "    'before':weight_before,\n",
        "    'after':weight_after,\n",
        "})\n",
        "data"
      ],
      "metadata": {
        "id": "S0jo0iqXhROJ"
      },
      "execution_count": null,
      "outputs": []
    },
    {
      "cell_type": "code",
      "source": [
        "data.describe()"
      ],
      "metadata": {
        "id": "BDhfs1vihhNR"
      },
      "execution_count": null,
      "outputs": []
    },
    {
      "cell_type": "code",
      "source": [
        "fig, ax = plt.subplots(2,1,figsize=(8,8))\n",
        "ax[0].hist(data['before'], bins=10, color='blue', edgecolor='black')\n",
        "ax[1].hist(data['after'], bins=10, color='red', edgecolor='black')\n",
        "plt.tight_layout()\n",
        "plt.show()"
      ],
      "metadata": {
        "id": "LVul1ksIhiaM"
      },
      "execution_count": null,
      "outputs": []
    },
    {
      "cell_type": "code",
      "source": [
        "from scipy.stats import ttest_rel\n",
        "\n",
        "ttest_rel(data['before'], data['after'])"
      ],
      "metadata": {
        "id": "0a_moqKKiMeI"
      },
      "execution_count": null,
      "outputs": []
    },
    {
      "cell_type": "code",
      "source": [
        "statistic=5.551190822774982\n",
        "pvalue=1.140956501688348e-06\n",
        "'''\n",
        "null hypothesis is rejected\n",
        "event is having effect\n",
        "'''"
      ],
      "metadata": {
        "id": "-8YP2YP2jXWJ"
      },
      "execution_count": null,
      "outputs": []
    },
    {
      "cell_type": "markdown",
      "metadata": {
        "id": "oEAbmcd5esEn"
      },
      "source": [
        "# Cohen's d (for paired samples t-test)\n",
        "*By P. Stikker*<br>\n"
      ]
    },
    {
      "cell_type": "markdown",
      "metadata": {
        "id": "_gQ718DHesEr"
      },
      "source": [
        "## Introduction"
      ]
    },
    {
      "cell_type": "markdown",
      "metadata": {
        "id": "CK0NX9EpesEs"
      },
      "source": [
        "After a paired samples t-test we might also like to know the effect size. There are many options and different authors suggest different ones. Cohen's is probably the most frequently used one, but there are several variations on Cohen's d. I'll use the one that is based on the differences (sometimes denoted as d<sub>z</sub>), but with a correction proposed by Hedges for small sample sizes.\n",
        "\n",
        "Then for the interpretation, Cohen (1988, p. 40) has some rules of thumb for the small, medium and large, and Sawilowsky (2009, p. 599) expanded these with very small, very large and huge:\n",
        "\n",
        "|\\|Cohen d\\|| Interpretation|\n",
        "|-------|---------------|\n",
        "|0 < .01| Negligible|\n",
        "|0.01 < .20| Very small|\n",
        "|0.20 < 0.50 |Small|\n",
        "|0.50 < 0.80| Medium|\n",
        "|0.80 < 1.20| Large|\n",
        "|1.20 < 2.00| Very large|\n",
        "|2.00 or more| Huge|\n",
        "\n",
        "These are however for Cohen's d, not d<sub>z</sub>. Cohen (1988, p. 48) notes that:\n",
        "\\begin{equation*}\n",
        "d = d_z\\times\\sqrt{2}\n",
        "\\end{equation*}\n",
        "\n",
        "So we will need to multiply our found d<sub>z</sub> with $\\sqrt{2}$ to use the table.\n",
        "\n",
        "Lets, find out how to do this with Python"
      ]
    },
    {
      "cell_type": "code",
      "source": [
        "!pip install researchpy"
      ],
      "metadata": {
        "id": "meuHaRc8j-nS"
      },
      "execution_count": null,
      "outputs": []
    },
    {
      "cell_type": "code",
      "source": [
        "from researchpy import ttest as rpttest"
      ],
      "metadata": {
        "id": "O0LMesN7jr9O"
      },
      "execution_count": null,
      "outputs": []
    },
    {
      "cell_type": "code",
      "source": [
        "rpttest(data['before'], data['after'], equal_variances=True, paired=True)"
      ],
      "metadata": {
        "id": "K9EhRAa0kG0G"
      },
      "execution_count": null,
      "outputs": []
    },
    {
      "cell_type": "code",
      "source": [
        "#Cohen's d =    0.1803\n",
        "dz = 0.1803 * (2 ** 0.5)\n",
        "dz"
      ],
      "metadata": {
        "id": "VGOryIqwkQQm"
      },
      "execution_count": null,
      "outputs": []
    },
    {
      "cell_type": "code",
      "source": [
        "cohenDnd = abs(dz)\n",
        "\n",
        "if cohenDnd < .01:\n",
        "    print('Negligible')\n",
        "elif cohenDnd < .20:\n",
        "    print('Very small')\n",
        "elif cohenDnd < .50:\n",
        "    print('Small')\n",
        "elif cohenDnd < .80:\n",
        "    print('Medium')\n",
        "elif cohenDnd < 1.20:\n",
        "    print('Large')\n",
        "elif cohenDnd < 2.00:\n",
        "    print('Very large')\n",
        "else:\n",
        "    print('Huge')"
      ],
      "metadata": {
        "id": "0eA2OQIykpfn"
      },
      "execution_count": null,
      "outputs": []
    },
    {
      "cell_type": "markdown",
      "source": [
        "#Homework"
      ],
      "metadata": {
        "id": "uX1bmssXnPge"
      }
    },
    {
      "cell_type": "code",
      "source": [
        "import pandas as pd\n",
        "\n",
        "# Given data\n",
        "data = {\n",
        "    'Student': range(1, 21),\n",
        "    'Before_mark': [18, 21, 16, 22, 19, 24, 17, 21, 23, 18, 14, 16, 16, 19, 18, 20, 12, 22, 15, 17],\n",
        "    'After_mark': [22, 25, 17, 24, 16, 29, 20, 23, 19, 20, 15, 15, 18, 26, 18, 24, 18, 25, 19, 16],\n",
        "\n",
        "}\n",
        "\n",
        "# Create DataFrame\n",
        "df = pd.DataFrame(data)\n",
        "\n",
        "print(df)\n"
      ],
      "metadata": {
        "id": "ukIoUVdCm2JP"
      },
      "execution_count": null,
      "outputs": []
    }
  ]
}