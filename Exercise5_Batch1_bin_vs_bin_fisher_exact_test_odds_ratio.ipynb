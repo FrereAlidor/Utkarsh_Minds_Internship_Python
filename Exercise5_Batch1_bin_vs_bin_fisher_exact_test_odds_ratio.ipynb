{
  "nbformat": 4,
  "nbformat_minor": 0,
  "metadata": {
    "colab": {
      "private_outputs": true,
      "provenance": []
    },
    "kernelspec": {
      "name": "python3",
      "display_name": "Python 3"
    },
    "language_info": {
      "name": "python"
    }
  },
  "cells": [
    {
      "cell_type": "code",
      "execution_count": null,
      "metadata": {
        "id": "UaYn7yCTXVUa"
      },
      "outputs": [],
      "source": [
        "import pandas\n",
        "import numpy\n",
        "import matplotlib.pyplot as plt"
      ]
    },
    {
      "cell_type": "code",
      "source": [
        "mydata = pandas.read_csv('/content/GSS2012a.csv')\n",
        "mydata"
      ],
      "metadata": {
        "id": "TttjvcHqYOts"
      },
      "execution_count": null,
      "outputs": []
    },
    {
      "cell_type": "code",
      "source": [
        "pandas.crosstab(mydata['mar1'], mydata['sex'])"
      ],
      "metadata": {
        "id": "AAryPAC8ZCdu"
      },
      "execution_count": null,
      "outputs": []
    },
    {
      "cell_type": "code",
      "source": [
        "pandas.crosstab(mydata['mar1'], mydata['sex'], margins=True)"
      ],
      "metadata": {
        "id": "lTO2XN6eZgpj"
      },
      "execution_count": null,
      "outputs": []
    },
    {
      "cell_type": "code",
      "source": [
        "pandas.crosstab(mydata['mar1'], mydata['sex'], margins=True, normalize=True)*100"
      ],
      "metadata": {
        "id": "drmihyEHZ1TX"
      },
      "execution_count": null,
      "outputs": []
    },
    {
      "cell_type": "code",
      "source": [
        "#read studentstats\n",
        "#\"Gen_SecSchool\", \"Gen_Gender\" crosstab"
      ],
      "metadata": {
        "id": "OezGqOBLaM_P"
      },
      "execution_count": null,
      "outputs": []
    },
    {
      "cell_type": "code",
      "source": [
        "mydata1 = pandas.read_csv('/content/StudentStatistics.csv', sep=';')\n",
        "mydata1"
      ],
      "metadata": {
        "id": "8obHmxdraOfk"
      },
      "execution_count": null,
      "outputs": []
    },
    {
      "cell_type": "code",
      "source": [
        "#replace non netherlands with others\n",
        "mydata1['Gen_SecSchool'][mydata1['Gen_SecSchool'] != 'The Netherlands'] = 'Others'"
      ],
      "metadata": {
        "id": "9XAbrn05cW-r"
      },
      "execution_count": null,
      "outputs": []
    },
    {
      "cell_type": "code",
      "source": [
        "mycrosstab = pandas.crosstab(mydata1['Gen_SecSchool'], mydata1['Gen_Gender'])\n",
        "mycrosstab"
      ],
      "metadata": {
        "id": "nqi5WbT1b8aC"
      },
      "execution_count": null,
      "outputs": []
    },
    {
      "cell_type": "code",
      "source": [
        "mycrosstab.plot(kind='bar')\n",
        "plt.show()"
      ],
      "metadata": {
        "id": "Mjfxc6KccyEy"
      },
      "execution_count": null,
      "outputs": []
    },
    {
      "cell_type": "code",
      "source": [
        "from scipy.stats import fisher_exact\n",
        "\n",
        "#h0 - no relation\n",
        "#ha - there is relation"
      ],
      "metadata": {
        "id": "cFOa0a0JeITj"
      },
      "execution_count": null,
      "outputs": []
    },
    {
      "cell_type": "code",
      "source": [
        "fisher_exact(mycrosstab)"
      ],
      "metadata": {
        "id": "rwjN9gx6ePnm"
      },
      "execution_count": null,
      "outputs": []
    },
    {
      "cell_type": "code",
      "source": [
        "pvalue=0.32137504230527486"
      ],
      "metadata": {
        "id": "MjPZPdmVecno"
      },
      "execution_count": null,
      "outputs": []
    },
    {
      "cell_type": "markdown",
      "source": [
        "Calculate the Odds Ratio using:\n",
        "\n",
        "$$OR = \\frac{\\left(\\frac{a}{c}\\right)}{\\left(\\frac{b}{d}\\right)}$$"
      ],
      "metadata": {
        "id": "3hzcH5Fqe7k-"
      }
    },
    {
      "cell_type": "code",
      "source": [
        "#effect size - odds ratio\n",
        "\n",
        "a = mycrosstab.iloc[0,0]\n",
        "b = mycrosstab.iloc[0,1]\n",
        "c = mycrosstab.iloc[1,0]\n",
        "d = mycrosstab.iloc[1,1]\n",
        "\n",
        "OR = (a/c) / (b/d)\n",
        "OR"
      ],
      "metadata": {
        "id": "2FRuglFvezLP"
      },
      "execution_count": null,
      "outputs": []
    },
    {
      "cell_type": "markdown",
      "source": [
        "Wuensch (2009, p. 2) gives the following guidelines for the size of the effect.\n",
        "\n",
        "|odds ratio|size|\n",
        "|----------|----|\n",
        "| 1 < 1.49 |negligible|\n",
        "| 1.49 < 3.45 | small |\n",
        "| 3.45 < 9 | medium |\n",
        "| 9 or more | large|"
      ],
      "metadata": {
        "id": "qWnP_1HnfWyn"
      }
    },
    {
      "cell_type": "markdown",
      "source": [
        "#a Fisher Exact test showed that there was no significant association between gender and secondary school, p = 0.32."
      ],
      "metadata": {
        "id": "lmi4PgKLfp6A"
      }
    },
    {
      "cell_type": "code",
      "source": [],
      "metadata": {
        "id": "vu9jETCbfQxK"
      },
      "execution_count": null,
      "outputs": []
    }
  ]
}