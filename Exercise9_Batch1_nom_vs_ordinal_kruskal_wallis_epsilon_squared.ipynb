{
  "nbformat": 4,
  "nbformat_minor": 0,
  "metadata": {
    "colab": {
      "private_outputs": true,
      "provenance": []
    },
    "kernelspec": {
      "name": "python3",
      "display_name": "Python 3"
    },
    "language_info": {
      "name": "python"
    }
  },
  "cells": [
    {
      "cell_type": "code",
      "execution_count": null,
      "metadata": {
        "id": "a83oFOzoPPaq"
      },
      "outputs": [],
      "source": [
        "import pandas\n",
        "import numpy\n",
        "import matplotlib.pyplot as plt"
      ]
    },
    {
      "cell_type": "code",
      "source": [
        "mydata = pandas.read_csv('/content/StudentStatistics.csv', sep=';')\n",
        "mydata"
      ],
      "metadata": {
        "id": "0fvC2JOLQexP"
      },
      "execution_count": null,
      "outputs": []
    },
    {
      "cell_type": "code",
      "source": [
        "pandas.crosstab(mydata['Location'], mydata['Mix_NrAct'])"
      ],
      "metadata": {
        "id": "tUhdozHFQm2-"
      },
      "execution_count": null,
      "outputs": []
    },
    {
      "cell_type": "code",
      "source": [
        "!pip install https://raw.githubusercontent.com/stikpet/stikpetP/main/stikpetP.tar.gz\n",
        "import stikpetP as ps"
      ],
      "metadata": {
        "id": "6BdjrgI9R3Eo"
      },
      "execution_count": null,
      "outputs": []
    },
    {
      "cell_type": "code",
      "source": [
        "mycoding = {'Far too little':1, 'too little': 2, 'Enough': 3, 'Too much': 4, 'Far too much': 5}"
      ],
      "metadata": {
        "id": "mGTXAGiVSDqm"
      },
      "execution_count": null,
      "outputs": []
    },
    {
      "cell_type": "code",
      "source": [
        "ps.vi_bar_stacked_multiple(mydata['Location'], mydata['Mix_NrAct'], mycoding)"
      ],
      "metadata": {
        "id": "KpBZ_qI3ST_9"
      },
      "execution_count": null,
      "outputs": []
    },
    {
      "cell_type": "code",
      "source": [
        "'''\n",
        "objective - if nominal variable is influencing the ordinal variable\n",
        "\n",
        "nominal variable -  school location\n",
        "ordinal variable - motivation level\n",
        "\n",
        "H0 - school location has no influence on motivation level\n",
        "Ha - school location has influence on motivation level\n",
        "\n",
        "\n",
        "'''"
      ],
      "metadata": {
        "id": "fhtnyiWKUgCj"
      },
      "execution_count": null,
      "outputs": []
    },
    {
      "cell_type": "markdown",
      "source": [
        "#Kruskal-Wallis H test"
      ],
      "metadata": {
        "id": "lVJRWeq2WpuS"
      }
    },
    {
      "cell_type": "code",
      "source": [
        "from scipy.stats import kruskal"
      ],
      "metadata": {
        "id": "r7TGG0HRXSi6"
      },
      "execution_count": null,
      "outputs": []
    },
    {
      "cell_type": "code",
      "source": [
        "rotterdamScores = mydata['Mix_NrAct'][mydata['Location'] == 'Rotterdam']\n",
        "HaarlemScores = mydata['Mix_NrAct'][mydata['Location'] == 'Haarlem']\n",
        "DiemenScores = mydata['Mix_NrAct'][mydata['Location'] == 'Diemen']"
      ],
      "metadata": {
        "id": "koLOQkIYXd-A"
      },
      "execution_count": null,
      "outputs": []
    },
    {
      "cell_type": "code",
      "source": [
        "rotterdamScores = rotterdamScores.dropna()\n",
        "HaarlemScores = HaarlemScores.dropna()\n",
        "DiemenScores = DiemenScores.dropna()"
      ],
      "metadata": {
        "id": "yVhR27inYOFB"
      },
      "execution_count": null,
      "outputs": []
    },
    {
      "cell_type": "code",
      "source": [
        "rotterdamScores = rotterdamScores.replace(mycoding)\n",
        "HaarlemScores = HaarlemScores.replace(mycoding)\n",
        "DiemenScores = DiemenScores.replace(mycoding)"
      ],
      "metadata": {
        "id": "f0C6ufbVYfIY"
      },
      "execution_count": null,
      "outputs": []
    },
    {
      "cell_type": "code",
      "source": [
        "'''\n",
        "KruskalResult(statistic=3.335068971240797, pvalue=0.1887117641109804)\n",
        "'''\n",
        "\n",
        "kruskal(rotterdamScores, HaarlemScores, DiemenScores)"
      ],
      "metadata": {
        "id": "6iOkB018YW4i"
      },
      "execution_count": null,
      "outputs": []
    },
    {
      "cell_type": "code",
      "source": [
        "'''\n",
        "p>0.05 - null hypothesis cannot be rejected\n",
        "'''\n",
        "\n",
        "pvalue=0.1887117641109804"
      ],
      "metadata": {
        "id": "10HrxpJUZl3R"
      },
      "execution_count": null,
      "outputs": []
    },
    {
      "cell_type": "markdown",
      "source": [
        "Unfortunately for the Kruskal-Wallis test there is not a single agreed upon effect size measure. However Epsilon square (ε<sup>2</sup>) (Kelley, 1935) seems to be a good choice (see King & Minium (2009), as cited in Tomczak & Tomczak, 2014).\n",
        "\n",
        "An epsilon square of 0 would mean no differences (and no influence), while one of 1 would indicate a full dependency. Unfortunately there is no formal way to determine if 0.40 is high or low, and I have not been able to find any rule of thumbs for the interpretation. Since this is a squared variable, I would use the same rule of thumb as for a correlation coefficient, but then squaring the upper and lower bounds of each bin. This would give if we use from Rea and Parker (2014) their interpretation for r, the following:\n",
        "\n",
        "|ε<sup>2</sup>| Interpretation|\n",
        "|-------|---------------|\n",
        "|0.00 < 0.01| Negligible|\n",
        "|0.01 < 0.04 |Weak|\n",
        "|0.04 < 0.16| Moderate|\n",
        "|0.16 < 0.36| Relatively strong|\n",
        "|0.36 < 0.64| Strong|\n",
        "|0.64 <= 1.00| Very strong|\n",
        "\n",
        "Lets find out how we can determine this ε<sup>2</sup> with Python, by example."
      ],
      "metadata": {
        "id": "W7qLEksPaZpJ"
      }
    },
    {
      "cell_type": "markdown",
      "source": [
        "\n",
        "\\begin{equation*}\n",
        "\\epsilon_{KW}^2 = H\\times\\frac{n+1}{n^2-1}\n",
        "\\end{equation*}"
      ],
      "metadata": {
        "id": "2PNbzhUaa9mQ"
      }
    },
    {
      "cell_type": "code",
      "source": [
        "pandas.crosstab(mydata['Location'], mydata['Mix_NrAct']).sum().sum()"
      ],
      "metadata": {
        "id": "eC61PRHRcrAJ"
      },
      "execution_count": null,
      "outputs": []
    },
    {
      "cell_type": "code",
      "source": [
        "#n = total cases or total rows\n",
        "#H- test statistics\n",
        "\n",
        "H =3.335068971240797\n",
        "n = pandas.crosstab(mydata['Location'], mydata['Mix_NrAct']).sum().sum()\n",
        "\n",
        "esq = H * ((n + 1)/(n**2 - 1))\n",
        "esq"
      ],
      "metadata": {
        "id": "pAffAbs5aV-Q"
      },
      "execution_count": null,
      "outputs": []
    },
    {
      "cell_type": "code",
      "source": [
        "if esq < .01:\n",
        "    qual = 'Negligible'\n",
        "elif esq < .04:\n",
        "    qual = 'Weak'\n",
        "elif esq < .16:\n",
        "    qual = 'Moderate'\n",
        "elif esq < .36:\n",
        "    qual = 'Relatively strong'\n",
        "elif esq < .64:\n",
        "    qual = 'Strong'\n",
        "else:\n",
        "    qual = 'Very strong'\n",
        "\n",
        "qual"
      ],
      "metadata": {
        "id": "FCN2i0kmcO4J"
      },
      "execution_count": null,
      "outputs": []
    },
    {
      "cell_type": "code",
      "source": [
        "'Location'\n",
        "'Teach_Motivate'\n",
        "\n",
        "'''\n",
        "statistical testing\n",
        "\n",
        "1- table\n",
        "2-visualization\n",
        "3-hypothesis\n",
        "4-testing\n",
        "5-effectsize\n",
        "\n",
        "Q- what is pvalue\n",
        "Q- conclusion\n",
        "Q- effect size\n",
        "'''"
      ],
      "metadata": {
        "id": "DmPsGcrHcxfg"
      },
      "execution_count": null,
      "outputs": []
    },
    {
      "cell_type": "code",
      "source": [
        "pandas.crosstab(mydata['Location'], mydata['Teach_Motivate'])"
      ],
      "metadata": {
        "id": "IoEVEHLNhyQ1"
      },
      "execution_count": null,
      "outputs": []
    },
    {
      "cell_type": "code",
      "source": [],
      "metadata": {
        "id": "gAwAUrWeh4Gk"
      },
      "execution_count": null,
      "outputs": []
    },
    {
      "cell_type": "code",
      "source": [
        "mycoding = {'Fully Disagree':1, 'Disagree': 2, 'Neither disagree nor agree': 3, 'Agree': 4, 'Fully agree': 5}"
      ],
      "metadata": {
        "id": "VVOiUxZ4hyQ-"
      },
      "execution_count": null,
      "outputs": []
    },
    {
      "cell_type": "code",
      "source": [
        "ps.vi_bar_stacked_multiple(mydata['Location'], mydata['Teach_Motivate'], mycoding)"
      ],
      "metadata": {
        "id": "MTEJfoDvhyQ-"
      },
      "execution_count": null,
      "outputs": []
    },
    {
      "cell_type": "code",
      "source": [
        "'''\n",
        "objective - if nominal variable is influencing the ordinal variable\n",
        "\n",
        "nominal variable -  school location\n",
        "ordinal variable - motivation level of teachers\n",
        "\n",
        "H0 - school location has no influence on motivation level of teachers\n",
        "Ha - school location has influence on motivation level of teachers\n",
        "\n",
        "\n",
        "'''"
      ],
      "metadata": {
        "id": "9zpwfegwhyQ_"
      },
      "execution_count": null,
      "outputs": []
    },
    {
      "cell_type": "code",
      "source": [
        "from scipy.stats import kruskal"
      ],
      "metadata": {
        "id": "y3h9joMIhyQ_"
      },
      "execution_count": null,
      "outputs": []
    },
    {
      "cell_type": "code",
      "source": [
        "rotterdamScores = mydata['Teach_Motivate'][mydata['Location'] == 'Rotterdam']\n",
        "HaarlemScores = mydata['Teach_Motivate'][mydata['Location'] == 'Haarlem']\n",
        "DiemenScores = mydata['Teach_Motivate'][mydata['Location'] == 'Diemen']"
      ],
      "metadata": {
        "id": "mMLfQZeDhyQ_"
      },
      "execution_count": null,
      "outputs": []
    },
    {
      "cell_type": "code",
      "source": [
        "rotterdamScores = rotterdamScores.dropna()\n",
        "HaarlemScores = HaarlemScores.dropna()\n",
        "DiemenScores = DiemenScores.dropna()"
      ],
      "metadata": {
        "id": "OKU9mA6yhyQ_"
      },
      "execution_count": null,
      "outputs": []
    },
    {
      "cell_type": "code",
      "source": [
        "rotterdamScores = rotterdamScores.replace(mycoding)\n",
        "HaarlemScores = HaarlemScores.replace(mycoding)\n",
        "DiemenScores = DiemenScores.replace(mycoding)"
      ],
      "metadata": {
        "id": "FBEHuOU0hyQ_"
      },
      "execution_count": null,
      "outputs": []
    },
    {
      "cell_type": "code",
      "source": [
        "'''\n",
        "KruskalResult(statistic=3.335068971240797, pvalue=0.1887117641109804)\n",
        "'''\n",
        "\n",
        "kruskal(rotterdamScores, HaarlemScores, DiemenScores)"
      ],
      "metadata": {
        "id": "uIEwmf8XhyQ_"
      },
      "execution_count": null,
      "outputs": []
    },
    {
      "cell_type": "code",
      "source": [
        "'''\n",
        "p>0.05 - null hypothesis cannot be rejected\n",
        "'''\n",
        "\n",
        "pvalue=2.3370565284336716e-05"
      ],
      "metadata": {
        "id": "_5N4HU8chyQ_"
      },
      "execution_count": null,
      "outputs": []
    },
    {
      "cell_type": "code",
      "source": [
        "#n = total cases or total rows\n",
        "#H- test statistics\n",
        "\n",
        "H =21.328066442489817\n",
        "n = pandas.crosstab(mydata['Location'], mydata['Teach_Motivate']).sum().sum()\n",
        "\n",
        "esq = H * ((n + 1)/(n**2 - 1))\n",
        "esq"
      ],
      "metadata": {
        "id": "ZEVoddpphyQ_"
      },
      "execution_count": null,
      "outputs": []
    },
    {
      "cell_type": "code",
      "source": [
        "if esq < .01:\n",
        "    qual = 'Negligible'\n",
        "elif esq < .04:\n",
        "    qual = 'Weak'\n",
        "elif esq < .16:\n",
        "    qual = 'Moderate'\n",
        "elif esq < .36:\n",
        "    qual = 'Relatively strong'\n",
        "elif esq < .64:\n",
        "    qual = 'Strong'\n",
        "else:\n",
        "    qual = 'Very strong'\n",
        "\n",
        "qual"
      ],
      "metadata": {
        "id": "TIyGnrSphyQ_"
      },
      "execution_count": null,
      "outputs": []
    },
    {
      "cell_type": "markdown",
      "source": [],
      "metadata": {
        "id": "JK_71wNzcceT"
      }
    }
  ]
}