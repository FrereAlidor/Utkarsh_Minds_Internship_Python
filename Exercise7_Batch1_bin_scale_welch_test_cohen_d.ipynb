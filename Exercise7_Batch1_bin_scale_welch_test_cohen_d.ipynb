{
  "nbformat": 4,
  "nbformat_minor": 0,
  "metadata": {
    "colab": {
      "private_outputs": true,
      "provenance": []
    },
    "kernelspec": {
      "name": "python3",
      "display_name": "Python 3"
    },
    "language_info": {
      "name": "python"
    }
  },
  "cells": [
    {
      "cell_type": "code",
      "execution_count": null,
      "metadata": {
        "id": "3PJsX2hYpgMD"
      },
      "outputs": [],
      "source": [
        "import pandas\n",
        "import numpy\n",
        "import matplotlib.pyplot as plt"
      ]
    },
    {
      "cell_type": "code",
      "source": [
        "mydata = pandas.read_csv('/content/StudentStatistics.csv', sep=';')\n",
        "mydata"
      ],
      "metadata": {
        "id": "5da0G3-dp2y1"
      },
      "execution_count": null,
      "outputs": []
    },
    {
      "cell_type": "code",
      "source": [
        "mydata.groupby('Gen_Gender')['Over_Grade'].mean()"
      ],
      "metadata": {
        "id": "OybGYp1Dp8yS"
      },
      "execution_count": null,
      "outputs": []
    },
    {
      "cell_type": "code",
      "source": [
        "mydata.groupby('Gen_Gender')['Over_Grade'].std()"
      ],
      "metadata": {
        "id": "UivnzeL8qhwK"
      },
      "execution_count": null,
      "outputs": []
    },
    {
      "cell_type": "code",
      "source": [
        "mydata.groupby('Gen_Gender')['Over_Grade'].agg(['mean', 'median', 'std', 'min', 'max'])"
      ],
      "metadata": {
        "id": "0bX42XK4q9y3"
      },
      "execution_count": null,
      "outputs": []
    },
    {
      "cell_type": "code",
      "source": [
        "maleScores = mydata['Over_Grade'][mydata['Gen_Gender'] == 'Male'].dropna()"
      ],
      "metadata": {
        "id": "-D4Nz05-rQK6"
      },
      "execution_count": null,
      "outputs": []
    },
    {
      "cell_type": "code",
      "source": [
        "femaleScores = mydata['Over_Grade'][mydata['Gen_Gender'] == 'Female'].dropna()"
      ],
      "metadata": {
        "id": "zNb7uzicrmOQ"
      },
      "execution_count": null,
      "outputs": []
    },
    {
      "cell_type": "code",
      "source": [
        "plt.figure(1, figsize=(8,8))\n",
        "\n",
        "plt.subplot(2,1,1)\n",
        "plt.hist(maleScores, color='skyblue', edgecolor='green', lw=2, bins = [10, 20, 30, 40, 50, 60, 70, 80, 90, 100])\n",
        "\n",
        "plt.subplot(2,1,2)\n",
        "plt.hist(femaleScores, color='yellow', edgecolor='green', lw=2, bins = [10, 20, 30, 40, 50, 60, 70, 80, 90, 100])\n",
        "\n",
        "plt.show()"
      ],
      "metadata": {
        "id": "uFOOMO5prw9U"
      },
      "execution_count": null,
      "outputs": []
    },
    {
      "cell_type": "markdown",
      "source": [
        "The most commonly used test, for testing if the mean between two categories is different, is probably the Student t-test (Student, 1908).\n",
        "\n",
        "However, this test does not perform well if the variances in each group are different. The Welch test (Welch, 1938, 1947) is designed to use if the variances are not equal, and does not differ much from the Student t-test if the variances are the same.\n",
        "\n",
        "Ruxton (2006) compared the Welch t-test and the Student’s t-test and concluded that: “the unequal variance t-test should always be used in preference to the Student's t-test” (p. 690).\n",
        "\n",
        "There are four similar tests, with different assumptions.\n",
        "\n",
        "|test|equal variance|normality|\n",
        "|----|--------------|---------|\n",
        "|Student|yes|yes|\n",
        "|Welch|no|yes|\n",
        "|Trimmed|yes|no|\n",
        "|Yuen-Welch|no|no|\n",
        "\n",
        "In this document the Student and Welch version are discussed. The Trimmed and Yuen-Welch are in a separate document, as well as a fifth for large sample cases: Z-test."
      ],
      "metadata": {
        "id": "J0UaEX0T8Bfs"
      }
    },
    {
      "cell_type": "code",
      "source": [
        "maleMarks = mydata['Over_Grade'][mydata['Gen_Gender'] == 'Male'].dropna()\n",
        "femaleMarks = mydata['Over_Grade'][mydata['Gen_Gender'] == 'Female'].dropna()"
      ],
      "metadata": {
        "id": "MQ81a3qy7-hz"
      },
      "execution_count": null,
      "outputs": []
    },
    {
      "cell_type": "code",
      "source": [
        "maleMarks"
      ],
      "metadata": {
        "id": "hwIrMgOe8iJ5"
      },
      "execution_count": null,
      "outputs": []
    },
    {
      "cell_type": "code",
      "source": [
        "femaleMarks"
      ],
      "metadata": {
        "id": "GFiuYx5j8kUz"
      },
      "execution_count": null,
      "outputs": []
    },
    {
      "cell_type": "code",
      "source": [
        "from scipy.stats import ttest_ind"
      ],
      "metadata": {
        "id": "LdyWBVfi8qC3"
      },
      "execution_count": null,
      "outputs": []
    },
    {
      "cell_type": "code",
      "source": [
        "#Student t-test\n",
        "\n",
        "'''\n",
        "Data - marks of male and marks of female students in a exam\n",
        "\n",
        "H0- marks are equal\n",
        "Ha- marks are unequal\n",
        "\n",
        "statistic=0.8007631996644367, pvalue=0.428120221815538\n",
        "'''\n",
        "\n",
        "ttest_ind(maleMarks, femaleMarks)"
      ],
      "metadata": {
        "id": "QTcboqm_8whU"
      },
      "execution_count": null,
      "outputs": []
    },
    {
      "cell_type": "code",
      "source": [
        "#Welch test\n",
        "#TtestResult(statistic=0.6936894455945684, pvalue=0.4991001245520197, df=14.158919197596669)\n",
        "'''\n",
        "Data - marks of male and marks of female students in a exam\n",
        "\n",
        "H0- marks are equal\n",
        "Ha- marks are unequal\n",
        "\n",
        "p<=0.05 - significant (null hypothesis can be rejected)\n",
        "p>0.05 - not significant (null hypothesis cannot be rejected)\n",
        "'''\n",
        "\n",
        "ttest_ind(maleMarks, femaleMarks, equal_var=False)\n"
      ],
      "metadata": {
        "id": "Bt9p6ApI9X0H"
      },
      "execution_count": null,
      "outputs": []
    },
    {
      "cell_type": "code",
      "source": [
        "'''\n",
        "Effect size - Cohen d_s\n",
        "'''"
      ],
      "metadata": {
        "id": "YujEfdc7-wjb"
      },
      "execution_count": null,
      "outputs": []
    },
    {
      "cell_type": "code",
      "source": [
        "!pip install https://raw.githubusercontent.com/stikpet/stikpetP/main/stikpetP.tar.gz"
      ],
      "metadata": {
        "id": "4z6lRHG2_bVJ"
      },
      "execution_count": null,
      "outputs": []
    },
    {
      "cell_type": "code",
      "source": [
        "import stikpetP as ps"
      ],
      "metadata": {
        "id": "FJ2MyVFO_UUh"
      },
      "execution_count": null,
      "outputs": []
    },
    {
      "cell_type": "markdown",
      "source": [
        "Then for the interpretation, Cohen (1988, p. 40) has some rules of thumb for the small, medium and large, and Sawilowsky (2009, p. 599) expanded these with very small, very large and huge:\n",
        "\n",
        "|\\|Cohen d\\|| Interpretation|\n",
        "|-------|---------------|\n",
        "|0 < .01| Negligible|\n",
        "|0.01 < .20| Very small|\n",
        "|0.20 < 0.50 |Small|\n",
        "|0.50 < 0.80| Medium|\n",
        "|0.80 < 1.20| Large|\n",
        "|1.20 < 2.00| Very large|\n",
        "|2.00 or more| Huge|\n",
        "\n",
        "Lets, find out how to do this with Python"
      ],
      "metadata": {
        "id": "O7H4Zv_MABb0"
      }
    },
    {
      "cell_type": "code",
      "source": [
        "ps.es_hedges_g_is(mydata['Gen_Gender'], mydata['Over_Grade'])"
      ],
      "metadata": {
        "id": "I1arL2y2_YY7"
      },
      "execution_count": null,
      "outputs": []
    }
  ]
}