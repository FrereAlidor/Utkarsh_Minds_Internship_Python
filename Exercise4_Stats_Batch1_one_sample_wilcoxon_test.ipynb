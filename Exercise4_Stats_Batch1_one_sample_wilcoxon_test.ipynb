{
  "nbformat": 4,
  "nbformat_minor": 0,
  "metadata": {
    "colab": {
      "private_outputs": true,
      "provenance": []
    },
    "kernelspec": {
      "name": "python3",
      "display_name": "Python 3"
    },
    "language_info": {
      "name": "python"
    }
  },
  "cells": [
    {
      "cell_type": "code",
      "execution_count": null,
      "metadata": {
        "id": "HP2ocErQ8S2q"
      },
      "outputs": [],
      "source": [
        "import pandas\n",
        "import numpy as np\n",
        "import matplotlib.pyplot as plt\n"
      ]
    },
    {
      "cell_type": "code",
      "source": [
        "mydata = pandas.read_csv('/content/GSS2012a.csv')"
      ],
      "metadata": {
        "id": "LfWPAAtr9dcO"
      },
      "execution_count": null,
      "outputs": []
    },
    {
      "cell_type": "code",
      "source": [
        "mydata"
      ],
      "metadata": {
        "id": "oCJT8uGs9t2o"
      },
      "execution_count": null,
      "outputs": []
    },
    {
      "cell_type": "code",
      "source": [
        "#column - accntsci\n",
        "myFreq = mydata['accntsci'].value_counts()"
      ],
      "metadata": {
        "id": "g8aIFQFB9uzJ"
      },
      "execution_count": null,
      "outputs": []
    },
    {
      "cell_type": "code",
      "source": [
        "#very scientific - pretty scientific - not too scientific - not scientific at qll\n",
        "myFreq"
      ],
      "metadata": {
        "id": "PNvnjgXyAOCs"
      },
      "execution_count": null,
      "outputs": []
    },
    {
      "cell_type": "code",
      "source": [
        "myFreq = myFreq.reindex(index=['Not scientific at all', 'Not too scientific', 'Pretty scientific', 'Very scientific'])"
      ],
      "metadata": {
        "id": "ocTS7ZisAnlb"
      },
      "execution_count": null,
      "outputs": []
    },
    {
      "cell_type": "code",
      "source": [
        "myFreq"
      ],
      "metadata": {
        "id": "abztN7QcBzp4"
      },
      "execution_count": null,
      "outputs": []
    },
    {
      "cell_type": "code",
      "source": [
        "myPerc = (myFreq / myFreq.sum()) * 100"
      ],
      "metadata": {
        "id": "EPCa9puFCPpu"
      },
      "execution_count": null,
      "outputs": []
    },
    {
      "cell_type": "code",
      "source": [
        "myPerc"
      ],
      "metadata": {
        "id": "y49btHFRC7G7"
      },
      "execution_count": null,
      "outputs": []
    },
    {
      "cell_type": "code",
      "source": [
        "cumPrec = myPerc.cumsum()"
      ],
      "metadata": {
        "id": "okVKDmZJDCte"
      },
      "execution_count": null,
      "outputs": []
    },
    {
      "cell_type": "code",
      "source": [
        "cumPrec"
      ],
      "metadata": {
        "id": "zfpNIQbVDGT3"
      },
      "execution_count": null,
      "outputs": []
    },
    {
      "cell_type": "code",
      "source": [
        "plt.figure(figsize=(2,5))\n",
        "\n",
        "plt.bar(0, myPerc[0])\n",
        "\n",
        "for i in range(1, len(myFreq)):\n",
        "    plt.bar(0, myPerc[i], bottom=cumPrec[i-1])\n",
        "\n",
        "labels = myFreq.index.tolist()\n",
        "plt.legend(labels, bbox_to_anchor=(1.05,1))"
      ],
      "metadata": {
        "id": "59xCalS7DN6m"
      },
      "execution_count": null,
      "outputs": []
    },
    {
      "cell_type": "markdown",
      "source": [
        "#Get bar chart of above data"
      ],
      "metadata": {
        "id": "bdGpCGaMHXPs"
      }
    },
    {
      "cell_type": "code",
      "source": [
        "#find median of the data\n",
        "\n",
        "#1,2,3,4,5 - median 3\n",
        "#1,2,3,4,5,6 - median 3+4/2 = 3.5"
      ],
      "metadata": {
        "id": "gHltZD_QHZpF"
      },
      "execution_count": null,
      "outputs": []
    },
    {
      "cell_type": "code",
      "source": [
        "coding = {'Not scientific at all':0, 'Not too scientific':1, 'Pretty scientific':2, 'Very scientific':3}\n",
        "\n",
        "ordinalData = mydata['accntsci'].replace(coding)"
      ],
      "metadata": {
        "id": "XqvB4DlcH4w8"
      },
      "execution_count": null,
      "outputs": []
    },
    {
      "cell_type": "code",
      "source": [
        "ordinalData.value_counts()"
      ],
      "metadata": {
        "id": "1iU3TE2OIfWD"
      },
      "execution_count": null,
      "outputs": []
    },
    {
      "cell_type": "code",
      "source": [
        "mydata['accntsci'].value_counts()"
      ],
      "metadata": {
        "id": "YW_R5Pd8Igde"
      },
      "execution_count": null,
      "outputs": []
    },
    {
      "cell_type": "code",
      "source": [
        "ordinalData.median()"
      ],
      "metadata": {
        "id": "5Szp8BKhInai"
      },
      "execution_count": null,
      "outputs": []
    },
    {
      "cell_type": "code",
      "source": [
        "'Not too scientific'\n",
        "\n",
        "this is the middle value\n",
        "\n",
        "#scale - mean - 1,2,3\n",
        "#nominal - mode - cat, cat, dog"
      ],
      "metadata": {
        "id": "3W_tDH9uI5yG"
      },
      "execution_count": null,
      "outputs": []
    },
    {
      "cell_type": "code",
      "source": [
        "#'Not at all scientific' + 'Not too scientific' = 50%"
      ],
      "metadata": {
        "id": "-CShpiXsJ3z-"
      },
      "execution_count": null,
      "outputs": []
    },
    {
      "cell_type": "code",
      "source": [
        "#one-sample Wilcoxon signed rank test\n",
        "\n",
        "#H0 - median of the data is X\n",
        "#HA - median of the data is not X"
      ],
      "metadata": {
        "id": "sNk9Pb14Kjer"
      },
      "execution_count": null,
      "outputs": []
    },
    {
      "cell_type": "code",
      "source": [
        "from scipy.stats import wilcoxon"
      ],
      "metadata": {
        "id": "xfBb9weAKzHS"
      },
      "execution_count": null,
      "outputs": []
    },
    {
      "cell_type": "code",
      "source": [
        "ordinalData.value_counts()"
      ],
      "metadata": {
        "id": "wzAI63sbK94f"
      },
      "execution_count": null,
      "outputs": []
    },
    {
      "cell_type": "code",
      "source": [
        "#drop the null values or remove missing values\n",
        "ordinalData = ordinalData.dropna()"
      ],
      "metadata": {
        "id": "jwX41_4VLKvp"
      },
      "execution_count": null,
      "outputs": []
    },
    {
      "cell_type": "code",
      "source": [
        "X  = 2.5\n",
        "\n",
        "wilcoxon(ordinalData - X, zero_method='wilcox')"
      ],
      "metadata": {
        "id": "u-uh8tS9LFBC"
      },
      "execution_count": null,
      "outputs": []
    },
    {
      "cell_type": "code",
      "source": [
        "pvalue=8.376600483105338e-142\n",
        "\n",
        "#Conclusion - null hypothesis is rejected - median of the data is not 2\n"
      ],
      "metadata": {
        "id": "i9B2po8PLefs"
      },
      "execution_count": null,
      "outputs": []
    },
    {
      "cell_type": "code",
      "source": [
        "X  = 1.1\n",
        "\n",
        "wilcoxon(ordinalData - X, zero_method='wilcox')"
      ],
      "metadata": {
        "id": "2M8kd7EML7nk"
      },
      "execution_count": null,
      "outputs": []
    },
    {
      "cell_type": "markdown",
      "source": [
        "ordinal_data = ['Low', 'Medium', 'High', 'Low', 'High', 'Medium', 'Medium', 'Low', 'High', 'Low']\n",
        "\n",
        "test if the median is low\n"
      ],
      "metadata": {
        "id": "RlliSllgMsUu"
      }
    },
    {
      "cell_type": "code",
      "source": [
        "#Effect size - Rosenthal Correlation\n",
        "\n",
        "#Calculate the Z norm\n",
        "\n",
        "from scipy.stats import norm\n",
        "\n",
        "pvalue=5.5820232465459735e-96\n",
        "\n",
        "Z = norm.ppf(pvalue/2)"
      ],
      "metadata": {
        "id": "y60DfJauMtS2"
      },
      "execution_count": null,
      "outputs": []
    },
    {
      "cell_type": "code",
      "source": [
        "Z"
      ],
      "metadata": {
        "id": "EHeV_jqlSNXH"
      },
      "execution_count": null,
      "outputs": []
    },
    {
      "cell_type": "code",
      "source": [
        "n = len(ordinalData)\n",
        "n"
      ],
      "metadata": {
        "id": "NcxRuyo4Sn9Y"
      },
      "execution_count": null,
      "outputs": []
    },
    {
      "cell_type": "code",
      "source": [
        "r_ros = Z / n **0.5\n",
        "r_ros = abs(r_ros)\n",
        "r_ros"
      ],
      "metadata": {
        "id": "RV0hl7COSN37"
      },
      "execution_count": null,
      "outputs": []
    },
    {
      "cell_type": "code",
      "source": [
        "if r_ros < .20:\n",
        "    qual = 'very low'\n",
        "elif r_ros < .40:\n",
        "    qual = 'low'\n",
        "elif r_ros < .60:\n",
        "    qual = 'moderate'\n",
        "elif r_ros < .80:\n",
        "    qual = 'strong'\n",
        "else:\n",
        "    qual = 'Very strong'\n",
        "qual"
      ],
      "metadata": {
        "id": "y0NZH5uUSzF8"
      },
      "execution_count": null,
      "outputs": []
    },
    {
      "cell_type": "markdown",
      "source": [
        "#A one-sample Wilcoxon signed-rank test indicated that the median was significantly different from 2.5, Z = 20.78, p < .001, with a strong effect size (r = .67)."
      ],
      "metadata": {
        "id": "kGk8cU6zTQdC"
      }
    }
  ]
}