{
  "nbformat": 4,
  "nbformat_minor": 0,
  "metadata": {
    "colab": {
      "private_outputs": true,
      "provenance": []
    },
    "kernelspec": {
      "name": "python3",
      "display_name": "Python 3"
    },
    "language_info": {
      "name": "python"
    }
  },
  "cells": [
    {
      "cell_type": "code",
      "execution_count": null,
      "metadata": {
        "id": "uXx4QrUgHjpI"
      },
      "outputs": [],
      "source": [
        "'''\n",
        "three or more binary variables\n",
        "\n",
        "to understand if all binary variables are equal proportions\n",
        "all binary variables have equal percentage for 0 and 1\n",
        "'''"
      ]
    },
    {
      "cell_type": "code",
      "source": [
        "import pandas\n",
        "import numpy\n",
        "import matplotlib.pyplot as plt"
      ],
      "metadata": {
        "id": "3L21uZheIYb6"
      },
      "execution_count": null,
      "outputs": []
    },
    {
      "cell_type": "code",
      "source": [
        "data = pandas.read_csv('/content/FilmPreferences2123.csv')\n",
        "data"
      ],
      "metadata": {
        "id": "RCeBywJkIe0i"
      },
      "execution_count": null,
      "outputs": []
    },
    {
      "cell_type": "code",
      "source": [
        "data.columns"
      ],
      "metadata": {
        "id": "EwKgtG7XKPUk"
      },
      "execution_count": null,
      "outputs": []
    },
    {
      "cell_type": "code",
      "source": [
        "selected_data = data[['munt', 'movies', 'tuschin', 'arena']]\n",
        "selected_data"
      ],
      "metadata": {
        "id": "Vr2el1k5JsdS"
      },
      "execution_count": null,
      "outputs": []
    },
    {
      "cell_type": "code",
      "source": [
        "'''\n",
        "calculate percentage of 0 and 1 for each column\n",
        "'''\n",
        "total_count_munt = len(selected_data[['munt']])\n",
        "total_count_munt"
      ],
      "metadata": {
        "id": "4UAZ7l0gKVgA"
      },
      "execution_count": null,
      "outputs": []
    },
    {
      "cell_type": "code",
      "source": [
        "sum_munt = sum(selected_data['munt'])\n",
        "sum_munt"
      ],
      "metadata": {
        "id": "T0iQkEyKNmac"
      },
      "execution_count": null,
      "outputs": []
    },
    {
      "cell_type": "code",
      "source": [
        "zeros_munt = total_count_munt - sum_munt\n",
        "zeros_munt"
      ],
      "metadata": {
        "id": "Ig0tk479NteV"
      },
      "execution_count": null,
      "outputs": []
    },
    {
      "cell_type": "code",
      "source": [
        "percent_ones_munt = (sum_munt/total_count_munt)*100\n",
        "percent_zeros_munt = (zeros_munt/total_count_munt)*100"
      ],
      "metadata": {
        "id": "UHPLnNrfN5Qo"
      },
      "execution_count": null,
      "outputs": []
    },
    {
      "cell_type": "code",
      "source": [
        "print('zero percent', percent_zeros_munt)\n",
        "print('ones percent', percent_ones_munt)"
      ],
      "metadata": {
        "id": "57NpU_rrOGcF"
      },
      "execution_count": null,
      "outputs": []
    },
    {
      "cell_type": "code",
      "source": [
        "sum_data = selected_data.sum()\n",
        "sum_data"
      ],
      "metadata": {
        "id": "Tv2WCrDQRaBY"
      },
      "execution_count": null,
      "outputs": []
    },
    {
      "cell_type": "code",
      "source": [
        "count_sum = sum_data.values.tolist()\n",
        "count_sum"
      ],
      "metadata": {
        "id": "D_5nMinDRfr7"
      },
      "execution_count": null,
      "outputs": []
    },
    {
      "cell_type": "code",
      "source": [
        "col_names = sum_data.index.tolist()\n",
        "col_names"
      ],
      "metadata": {
        "id": "CVmSIoUiRpdm"
      },
      "execution_count": null,
      "outputs": []
    },
    {
      "cell_type": "code",
      "source": [
        "plt.bar(col_names, count_sum, edgecolor='blue')"
      ],
      "metadata": {
        "id": "LLEUKMrKRuXU"
      },
      "execution_count": null,
      "outputs": []
    },
    {
      "cell_type": "code",
      "source": [
        "'''\n",
        "H0 - no difference in percentage of 0 and 1 in all variables\n",
        "Ha - there is difference in percentage of 0 and 1 in all variables\n",
        "'''"
      ],
      "metadata": {
        "id": "AeZtBtzITUvz"
      },
      "execution_count": null,
      "outputs": []
    },
    {
      "cell_type": "markdown",
      "metadata": {
        "id": "yJUNfjXyROpd"
      },
      "source": [
        "# Cochran Q test\n",
        "*By P. Stikker*<br>\n"
      ]
    },
    {
      "cell_type": "markdown",
      "metadata": {
        "id": "7z_vTcPEROph"
      },
      "source": [
        "If you allowed people to choose more than one option (e.g. which of the following music genres do you like?), each of the options becomes a no/yes variable in itself, which are binary variables. It might be that not every option was chosen equally often. To test if these differences are significantly different we can use a Cochran's Q test.\n",
        "\n",
        "The Cochran's Q test starts similar as a Pearson chi-square test by squaring the differences between the observed and the expected proportions, but then divides this by the sum of the number of successes multiplied by the number of failures for each case.\n",
        "\n",
        "Lets see how we can do this test with Python."
      ]
    },
    {
      "cell_type": "code",
      "source": [
        "from statsmodels.stats.contingency_tables import cochrans_q"
      ],
      "metadata": {
        "id": "lDtRye2_TizE"
      },
      "execution_count": null,
      "outputs": []
    },
    {
      "cell_type": "code",
      "source": [
        "result = cochrans_q(selected_data)\n",
        "print(result)"
      ],
      "metadata": {
        "id": "Hm8lQ_NsUIgO"
      },
      "execution_count": null,
      "outputs": []
    },
    {
      "cell_type": "code",
      "source": [
        "pvalue = 0.00022763307854354147"
      ],
      "metadata": {
        "id": "5RgYI1I3UUie"
      },
      "execution_count": null,
      "outputs": []
    },
    {
      "cell_type": "code",
      "source": [],
      "metadata": {
        "id": "KypRuh-6VsHo"
      },
      "execution_count": null,
      "outputs": []
    },
    {
      "cell_type": "markdown",
      "source": [
        "#Effect size"
      ],
      "metadata": {
        "id": "KSev-WalVspO"
      }
    },
    {
      "cell_type": "code",
      "source": [
        "df = 3\n",
        "statistics = 19.384615384615383\n",
        "nrows = selected_data.shape[0]\n",
        "\n",
        "effectsize = statistics / (df * nrows)\n",
        "effectsize"
      ],
      "metadata": {
        "id": "L9Q5LrBdVuMQ"
      },
      "execution_count": null,
      "outputs": []
    }
  ]
}