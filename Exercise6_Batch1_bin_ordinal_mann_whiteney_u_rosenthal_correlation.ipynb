{
  "nbformat": 4,
  "nbformat_minor": 0,
  "metadata": {
    "colab": {
      "private_outputs": true,
      "provenance": []
    },
    "kernelspec": {
      "name": "python3",
      "display_name": "Python 3"
    },
    "language_info": {
      "name": "python"
    }
  },
  "cells": [
    {
      "cell_type": "code",
      "execution_count": null,
      "metadata": {
        "id": "9eZWwwf5ghHl"
      },
      "outputs": [],
      "source": [
        "import pandas\n",
        "import numpy\n",
        "import matplotlib.pyplot as plt"
      ]
    },
    {
      "cell_type": "code",
      "source": [
        "mydata = pandas.read_csv('/content/StudentStatistics.csv', sep=';')\n",
        "mydata"
      ],
      "metadata": {
        "id": "llt6pSIShNLE"
      },
      "execution_count": null,
      "outputs": []
    },
    {
      "cell_type": "code",
      "source": [
        "#'Mix_NrAct' and 'Gen_Gender'\n",
        "pandas.crosstab(mydata['Gen_Gender'], mydata['Mix_NrAct'])"
      ],
      "metadata": {
        "id": "Tx_inVknhXpr"
      },
      "execution_count": null,
      "outputs": []
    },
    {
      "cell_type": "code",
      "source": [
        "coding = {'Far too little': 1, 'too little': 2, 'Enough': 3, 'Too much': 4, 'Far too much': 5}"
      ],
      "metadata": {
        "id": "qoagNV3SiTVa"
      },
      "execution_count": null,
      "outputs": []
    },
    {
      "cell_type": "code",
      "source": [
        "!pip install https://raw.githubusercontent.com/stikpet/stikpetP/main/stikpetP.tar.gz"
      ],
      "metadata": {
        "id": "WFPMCnQHib5F"
      },
      "execution_count": null,
      "outputs": []
    },
    {
      "cell_type": "code",
      "source": [
        "import stikpetP as ps"
      ],
      "metadata": {
        "id": "_7epMO2XimmY"
      },
      "execution_count": null,
      "outputs": []
    },
    {
      "cell_type": "code",
      "source": [
        "ps.vi_bar_stacked_multiple(mydata['Gen_Gender'], mydata['Mix_NrAct'], coding)"
      ],
      "metadata": {
        "id": "uqoaUokhisuZ"
      },
      "execution_count": null,
      "outputs": []
    },
    {
      "cell_type": "code",
      "source": [
        "#h0 - no influence of gender on mix_nrAct\n",
        "#ha - there is influence\n",
        "\n",
        "#Wilcoxon-Mann-Whitney U test"
      ],
      "metadata": {
        "id": "sLkpLgOVkr5h"
      },
      "execution_count": null,
      "outputs": []
    },
    {
      "cell_type": "code",
      "source": [
        "myOrd = mydata['Mix_NrAct'].replace(coding)"
      ],
      "metadata": {
        "id": "BBLp2_x8k-yK"
      },
      "execution_count": null,
      "outputs": []
    },
    {
      "cell_type": "code",
      "source": [
        "myCat1 = mydata['Gen_Gender'] == 'Male'\n",
        "myCat2 = mydata['Gen_Gender'] == 'Female'"
      ],
      "metadata": {
        "id": "mfugAbpslHpw"
      },
      "execution_count": null,
      "outputs": []
    },
    {
      "cell_type": "code",
      "source": [
        "myCatScores1 = myOrd[myCat1].dropna()\n",
        "myCatScores2 = myOrd[myCat2].dropna()"
      ],
      "metadata": {
        "id": "DKKFuuAilV7H"
      },
      "execution_count": null,
      "outputs": []
    },
    {
      "cell_type": "code",
      "source": [
        "myCatScores1"
      ],
      "metadata": {
        "id": "MZPYPFqlllMh"
      },
      "execution_count": null,
      "outputs": []
    },
    {
      "cell_type": "code",
      "source": [
        "myCatScores2"
      ],
      "metadata": {
        "id": "ZVlkM3LIllTi"
      },
      "execution_count": null,
      "outputs": []
    },
    {
      "cell_type": "code",
      "source": [
        "from scipy.stats import mannwhitneyu"
      ],
      "metadata": {
        "id": "GY_7ekCDlp9O"
      },
      "execution_count": null,
      "outputs": []
    },
    {
      "cell_type": "code",
      "source": [
        "mannwhitneyu(myCatScores1, myCatScores2, use_continuity=False, alternative = 'two-sided')"
      ],
      "metadata": {
        "id": "nw131KVjlu5X"
      },
      "execution_count": null,
      "outputs": []
    },
    {
      "cell_type": "code",
      "source": [
        "pvalue = 0.0044363900107872375"
      ],
      "metadata": {
        "id": "BJhu2rZmmCo8"
      },
      "execution_count": null,
      "outputs": []
    },
    {
      "cell_type": "markdown",
      "source": [
        "#Effect size - rosenthal correlation"
      ],
      "metadata": {
        "id": "CdxABgqFmKiX"
      }
    },
    {
      "cell_type": "code",
      "source": [
        "from scipy.stats import norm\n",
        "\n",
        "Z = norm.ppf(pvalue/2)\n",
        "n = len(myCatScores1) + len(myCatScores2)\n",
        "\n",
        "r_ros = abs(Z / n ** 0.5)\n",
        "r_ros"
      ],
      "metadata": {
        "id": "s0xBsG-YmNfC"
      },
      "execution_count": null,
      "outputs": []
    },
    {
      "cell_type": "code",
      "source": [
        "Rosenthal correlation interpretation\n",
        "'''\n",
        "Rosenthal Correlation\tInterpretation\n",
        "0.00 < 0.20\n",
        "very low\n",
        "0.20 < 0.40\n",
        "low\n",
        "0.40 < 0.60\n",
        "moderate\n",
        "0.60 < 0.80\n",
        "strong\n",
        "0.80 < 1.00\n",
        "very strong\n",
        "'''"
      ],
      "metadata": {
        "id": "mkv9Mr8sm4q2"
      },
      "execution_count": null,
      "outputs": []
    },
    {
      "cell_type": "code",
      "source": [],
      "metadata": {
        "id": "L-2Ds3w9pdWA"
      },
      "execution_count": null,
      "outputs": []
    }
  ]
}