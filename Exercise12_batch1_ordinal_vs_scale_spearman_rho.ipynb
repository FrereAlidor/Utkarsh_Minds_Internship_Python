{
  "nbformat": 4,
  "nbformat_minor": 0,
  "metadata": {
    "colab": {
      "private_outputs": true,
      "provenance": []
    },
    "kernelspec": {
      "name": "python3",
      "display_name": "Python 3"
    },
    "language_info": {
      "name": "python"
    }
  },
  "cells": [
    {
      "cell_type": "code",
      "execution_count": null,
      "metadata": {
        "id": "auRtnO6FeHmC"
      },
      "outputs": [],
      "source": [
        "'''\n",
        "Ordinal data vs Scale\n",
        "Does the ordinal data influence the scale data or not\n",
        "'''"
      ]
    },
    {
      "cell_type": "code",
      "source": [
        "import pandas\n",
        "import numpy\n",
        "import matplotlib.pyplot as plt"
      ],
      "metadata": {
        "id": "vsdjnxGKesPz"
      },
      "execution_count": null,
      "outputs": []
    },
    {
      "cell_type": "code",
      "source": [
        "mydata = pandas.read_csv('/content/StudentStatistics.csv', sep=';')\n",
        "mydata"
      ],
      "metadata": {
        "id": "uE1WFbRbewMg"
      },
      "execution_count": null,
      "outputs": []
    },
    {
      "cell_type": "code",
      "source": [
        "'Teach_Motivate'\n",
        "'Over_Grade'"
      ],
      "metadata": {
        "id": "LS5_jmnue2sx"
      },
      "execution_count": null,
      "outputs": []
    },
    {
      "cell_type": "code",
      "source": [
        "'For each level in ordinal data what is the mean, median, min, max, std'"
      ],
      "metadata": {
        "id": "n_NKEaYofF5L"
      },
      "execution_count": null,
      "outputs": []
    },
    {
      "cell_type": "code",
      "source": [
        "mydata.groupby('Teach_Motivate')['Over_Grade'].agg(['mean', 'median', 'std', 'min', 'max'])"
      ],
      "metadata": {
        "id": "rcz2jUXwgD-D"
      },
      "execution_count": null,
      "outputs": []
    },
    {
      "cell_type": "code",
      "source": [
        "import seaborn as sns"
      ],
      "metadata": {
        "id": "2n8yQnvzgf21"
      },
      "execution_count": null,
      "outputs": []
    },
    {
      "cell_type": "code",
      "source": [
        "sns.boxplot(x='Teach_Motivate', y='Over_Grade', data=mydata)\n",
        "plt.show()"
      ],
      "metadata": {
        "id": "TqknYr24gojr"
      },
      "execution_count": null,
      "outputs": []
    },
    {
      "cell_type": "code",
      "source": [
        "sns.histplot(data=mydata, x='Over_Grade', hue='Teach_Motivate', bins=10, multiple='fill')\n",
        "#“layer”, “dodge”, “stack”, “fill"
      ],
      "metadata": {
        "id": "RoUFL73Dgyec"
      },
      "execution_count": null,
      "outputs": []
    },
    {
      "cell_type": "markdown",
      "source": [
        "#Spearman's rho (ρ) (or Spearman rank correlation coefficient)"
      ],
      "metadata": {
        "id": "msSNvoJCjlfD"
      }
    },
    {
      "cell_type": "markdown",
      "source": [
        "There are many different measures that could be argued for to be used to test if this relation also exists in the population between an ordinal and a scale variable. I'll suggest to use Spearman's rho (ρ) (or Spearman rank correlation coefficient) (Spearman, 1904).\n",
        "\n",
        "Spearman rho varies between -1 and +1. If it is -1 there is a perfect negative monotonic relationship, if it is 0 there is no monotonic relationship and at +1 there is a perfect positive monotonic relationship. Monotonic means that it is constantly increasing or constantly decreasing. A positive relation means that if one variable goes up, the other also goes up (for example number of ice cream sold versus temperature), a negative relation indicates if one goes down, the other goes up (for example number of winter jackets sold versus temperature).\n",
        "\n",
        "To determine the strength we only look at the absolute value (which means to ignore any minus sign, so the absolute value of for example -0.4 is simply 0.4).\n",
        "\n",
        "Unfortunately there is no formal way to determine if for example 0.787 is high or low (although almost everyone would agree this is pretty high), and the rules of thumb floating around on the internet vary quite a lot, often depending on the field (e.g. biology, medicine, business, etc.). For example the same rule of thumb from Rea and Parker (2014):\n",
        "\n",
        "|\\|ρ\\|| Interpretation|\n",
        "|-------|---------------|\n",
        "|0.00 < 0.10| Negligible|\n",
        "|0.10 < 0.20 |Weak|\n",
        "|0.20 < 0.40| Moderate|\n",
        "|0.40 < 0.60| Relatively strong|\n",
        "|0.60 < 0.80| Strong|\n",
        "|0.80 <= 1.00| Very strong|\n"
      ],
      "metadata": {
        "id": "RhZd8oEQji4b"
      }
    },
    {
      "cell_type": "code",
      "source": [
        "mydata['Teach_Motivate'].unique()"
      ],
      "metadata": {
        "id": "hc_aY6G-jLct"
      },
      "execution_count": null,
      "outputs": []
    },
    {
      "cell_type": "code",
      "source": [
        "mycoding = {'Fully Disagree':1, 'Disagree':2, 'Fully agree':5,\n",
        "       'Neither disagree nor agree':3, 'Agree':4}"
      ],
      "metadata": {
        "id": "PkXL7BDOj2DV"
      },
      "execution_count": null,
      "outputs": []
    },
    {
      "cell_type": "code",
      "source": [
        "newdf = mydata[['Teach_Motivate','Over_Grade']]"
      ],
      "metadata": {
        "id": "-Wb9_DJ1kBh9"
      },
      "execution_count": null,
      "outputs": []
    },
    {
      "cell_type": "code",
      "source": [
        "newdf['Teach_Motivate'] = newdf['Teach_Motivate'].replace(mycoding)"
      ],
      "metadata": {
        "id": "_4HrAyOrkKHQ"
      },
      "execution_count": null,
      "outputs": []
    },
    {
      "cell_type": "code",
      "source": [
        "newdf.corr(method='spearman')"
      ],
      "metadata": {
        "id": "EH1KdqDvkPfI"
      },
      "execution_count": null,
      "outputs": []
    },
    {
      "cell_type": "markdown",
      "source": [
        "Spearman rho varies between -1 and +1. If it is -1 there is a perfect negative monotonic relationship, if it is 0 there is no monotonic relationship and at +1 there is a perfect positive monotonic relationship. Monotonic means that it is constantly increasing or constantly decreasing. A positive relation means that if one variable goes up, the other also goes up (for example number of ice cream sold versus temperature), a negative relation indicates if one goes down, the other goes up (for example number of winter jackets sold versus temperature)."
      ],
      "metadata": {
        "id": "KMa9rVUsknR4"
      }
    },
    {
      "cell_type": "markdown",
      "source": [
        "\n",
        "\n",
        "*   H0 - no relation between motivation and marks\n",
        "*   Ha - there is a relation\n",
        "\n",
        "\n"
      ],
      "metadata": {
        "id": "hzV0i8ZblIhP"
      }
    },
    {
      "cell_type": "code",
      "source": [
        "from scipy.stats import spearmanr"
      ],
      "metadata": {
        "id": "qdaIe3zWkyR2"
      },
      "execution_count": null,
      "outputs": []
    },
    {
      "cell_type": "code",
      "source": [
        "spearmanr(newdf, nan_policy='omit')"
      ],
      "metadata": {
        "id": "mnbXN5L4k4el"
      },
      "execution_count": null,
      "outputs": []
    },
    {
      "cell_type": "code",
      "source": [
        "rho = 0.7872"
      ],
      "metadata": {
        "id": "A3gxenf1kf28"
      },
      "execution_count": null,
      "outputs": []
    },
    {
      "cell_type": "code",
      "source": [
        "pvalue=3.236363793284169e-11"
      ],
      "metadata": {
        "id": "P7tv0UqIk6Ep"
      },
      "execution_count": null,
      "outputs": []
    },
    {
      "cell_type": "code",
      "source": [
        "rs = 0.7872\n",
        "\n",
        "if abs(rs) < .10:\n",
        "    qual = 'Negligible'\n",
        "elif abs(rs) < .20:\n",
        "    qual = 'Weak'\n",
        "elif abs(rs) < .40:\n",
        "    qual = 'Moderate'\n",
        "elif abs(rs) < .60:\n",
        "    qual = 'Relatively strong'\n",
        "elif abs(rs) < .80:\n",
        "    qual = 'Strong'\n",
        "else:\n",
        "    qual = 'Very strong'\n",
        "\n",
        "qual"
      ],
      "metadata": {
        "id": "xnVRszIpmzBt"
      },
      "execution_count": null,
      "outputs": []
    }
  ]
}