{
  "nbformat": 4,
  "nbformat_minor": 0,
  "metadata": {
    "colab": {
      "private_outputs": true,
      "provenance": []
    },
    "kernelspec": {
      "name": "python3",
      "display_name": "Python 3"
    },
    "language_info": {
      "name": "python"
    }
  },
  "cells": [
    {
      "cell_type": "code",
      "execution_count": null,
      "metadata": {
        "id": "TOznrzfRpqgo"
      },
      "outputs": [],
      "source": [
        "import pandas\n",
        "import numpy\n",
        "import matplotlib.pyplot as plt"
      ]
    },
    {
      "cell_type": "code",
      "source": [
        "mydata = pandas.read_csv('/content/StudentStatistics.csv', sep=';')\n",
        "mydata"
      ],
      "metadata": {
        "id": "dLlQlEgur47u"
      },
      "execution_count": null,
      "outputs": []
    },
    {
      "cell_type": "code",
      "source": [
        "'Over_Grade'\n",
        "'Gen_Age'\n",
        "\n",
        "#Does age influence gender"
      ],
      "metadata": {
        "id": "h2Fk8xZosD1d"
      },
      "execution_count": null,
      "outputs": []
    },
    {
      "cell_type": "code",
      "source": [
        "mydata[['Gen_Age','Over_Grade']].describe()"
      ],
      "metadata": {
        "id": "LBpzK3JasVbq"
      },
      "execution_count": null,
      "outputs": []
    },
    {
      "cell_type": "code",
      "source": [
        "plt.scatter(mydata['Gen_Age'], mydata['Over_Grade'])\n",
        "plt.show()"
      ],
      "metadata": {
        "id": "_UMwzfLisaWF"
      },
      "execution_count": null,
      "outputs": []
    },
    {
      "cell_type": "code",
      "source": [
        "newdf = mydata[['Gen_Age','Over_Grade']].dropna()"
      ],
      "metadata": {
        "id": "OJgHxmDJtVdz"
      },
      "execution_count": null,
      "outputs": []
    },
    {
      "cell_type": "code",
      "source": [
        "from scipy.stats import pearsonr"
      ],
      "metadata": {
        "id": "zXowe_dystQI"
      },
      "execution_count": null,
      "outputs": []
    },
    {
      "cell_type": "code",
      "source": [
        "pearsonr(newdf['Gen_Age'], newdf['Over_Grade'])"
      ],
      "metadata": {
        "id": "Pguoz1tGtBRc"
      },
      "execution_count": null,
      "outputs": []
    },
    {
      "cell_type": "markdown",
      "source": [
        "The most commonly used measure to test if a linear relation exists between two scale variables, is the Pearson Correlation Coefficient (or in it's full name the Pearson product-moment correlation coefficient) (Pearson, 1896).\n",
        "\n",
        "Pearson Correlation varies between -1 and +1. If it is -1 there is a perfect negative lineair relationship, if it is 0 there is no lineair relationship and at +1 there is a perfect positive lineair relationship.\n",
        "\n",
        "A positive relation means that if one variable goes up, the other also goes up (for example number of ice cream sold versus temperature), a negative relation indicates if one goes down, the other goes up (for example number of winter jackets sold versus temperature).\n",
        "\n",
        "Unfortunately there is no formal way to determine if a particular value is high or low, and the rules of thumb floating around on the internet vary quite a lot, often depending on the field (e.g. biology, medicine, business, etc.). For example the same rule of thumb sizes from Rea and Parker (2014):\n",
        "\n",
        "|\\|r\\|| Interpretation|\n",
        "|-------|---------------|\n",
        "|0.00 < 0.10| Negligible|\n",
        "|0.10 < 0.20 |Weak|\n",
        "|0.20 < 0.40| Moderate|\n",
        "|0.40 < 0.60| Relatively strong|\n",
        "|0.60 < 0.80| Strong|\n",
        "|0.80 <= 1.00| Very strong|\n",
        "\n",
        "\n",
        "We can also test if Pearson Correlation might be significantly different from 0."
      ],
      "metadata": {
        "id": "BWwFZaJOtubU"
      }
    },
    {
      "cell_type": "code",
      "source": [
        "statistic = -0.06061251564426085\n",
        "pvalue = 0.7139570447292615"
      ],
      "metadata": {
        "id": "LepICYzVtHBN"
      },
      "execution_count": null,
      "outputs": []
    },
    {
      "cell_type": "markdown",
      "source": [
        "#Assignment"
      ],
      "metadata": {
        "id": "9zUrDF31u0nj"
      }
    },
    {
      "cell_type": "code",
      "source": [
        "from sklearn.datasets import fetch_california_housing"
      ],
      "metadata": {
        "id": "xDzrhWAHu2Wn"
      },
      "execution_count": null,
      "outputs": []
    },
    {
      "cell_type": "code",
      "source": [
        "X, y = fetch_california_housing(return_X_y=True, as_frame=True)"
      ],
      "metadata": {
        "id": "NrTZkPpEu59l"
      },
      "execution_count": null,
      "outputs": []
    },
    {
      "cell_type": "code",
      "source": [
        "X"
      ],
      "metadata": {
        "id": "HClixu_au_zL"
      },
      "execution_count": null,
      "outputs": []
    },
    {
      "cell_type": "code",
      "source": [
        "y"
      ],
      "metadata": {
        "id": "TPYkEDilvA86"
      },
      "execution_count": null,
      "outputs": []
    },
    {
      "cell_type": "code",
      "source": [
        "'''\n",
        "Which column in X has significant relationship with y and calculate effect size and positive/negative/neutral\n",
        "'''"
      ],
      "metadata": {
        "id": "R39sFtIWvG6l"
      },
      "execution_count": null,
      "outputs": []
    }
  ]
}