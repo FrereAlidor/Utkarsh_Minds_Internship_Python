{
  "nbformat": 4,
  "nbformat_minor": 0,
  "metadata": {
    "colab": {
      "private_outputs": true,
      "provenance": []
    },
    "kernelspec": {
      "name": "python3",
      "display_name": "Python 3"
    },
    "language_info": {
      "name": "python"
    }
  },
  "cells": [
    {
      "cell_type": "code",
      "execution_count": null,
      "metadata": {
        "id": "ADW1De8v_3hz"
      },
      "outputs": [],
      "source": [
        "import pandas"
      ]
    },
    {
      "cell_type": "code",
      "source": [
        "mydata = pandas.read_csv('GSS2012a.csv')"
      ],
      "metadata": {
        "id": "7ZTX74nDAnRo"
      },
      "execution_count": null,
      "outputs": []
    },
    {
      "cell_type": "code",
      "source": [
        "mydata"
      ],
      "metadata": {
        "id": "aNAr-Q6_BAt8"
      },
      "execution_count": null,
      "outputs": []
    },
    {
      "cell_type": "code",
      "source": [
        "scalevar = mydata['age'].dropna()"
      ],
      "metadata": {
        "id": "3UFaC9qVBC3f"
      },
      "execution_count": null,
      "outputs": []
    },
    {
      "cell_type": "code",
      "source": [
        "import matplotlib.pyplot as plt"
      ],
      "metadata": {
        "id": "uyNTRK28BKGM"
      },
      "execution_count": null,
      "outputs": []
    },
    {
      "cell_type": "code",
      "source": [
        "mydata['age'].info()"
      ],
      "metadata": {
        "id": "ByHvbRZ0BkqI"
      },
      "execution_count": null,
      "outputs": []
    },
    {
      "cell_type": "code",
      "source": [
        "scalevar = scalevar.replace({'89 OR OLDER': 90})"
      ],
      "metadata": {
        "id": "kmx4ONKWB_rB"
      },
      "execution_count": null,
      "outputs": []
    },
    {
      "cell_type": "code",
      "source": [
        "scalevar = pandas.to_numeric(scalevar)"
      ],
      "metadata": {
        "id": "6Teqr2lzBtvx"
      },
      "execution_count": null,
      "outputs": []
    },
    {
      "cell_type": "code",
      "source": [
        "plt.scatter(range(len(scalevar)), scalevar, marker='o', linestyle='-')"
      ],
      "metadata": {
        "id": "7DepxJyuBXu1"
      },
      "execution_count": null,
      "outputs": []
    },
    {
      "cell_type": "code",
      "source": [
        "#binning"
      ],
      "metadata": {
        "id": "8b5sO9OGCYlQ"
      },
      "execution_count": null,
      "outputs": []
    },
    {
      "cell_type": "code",
      "source": [
        "pandas.cut(scalevar, bins=5).value_counts()"
      ],
      "metadata": {
        "id": "Fjy5fcJxC2Bb"
      },
      "execution_count": null,
      "outputs": []
    },
    {
      "cell_type": "code",
      "source": [
        "#75.6 - (61.2, 75.6]"
      ],
      "metadata": {
        "id": "7iXKhwGLFh2K"
      },
      "execution_count": null,
      "outputs": []
    },
    {
      "cell_type": "code",
      "source": [
        "#(17.928, 32.4]\n",
        "#() - not including\n",
        "#[] - including\n",
        "#17.928 < = 32.4"
      ],
      "metadata": {
        "id": "DGEAT-i5DBBb"
      },
      "execution_count": null,
      "outputs": []
    },
    {
      "cell_type": "code",
      "source": [
        "#age - 10 - 20, 21-30, 31-50, 51-90, 90 - 100"
      ],
      "metadata": {
        "id": "In9rdAp_DThG"
      },
      "execution_count": null,
      "outputs": []
    },
    {
      "cell_type": "code",
      "source": [
        "'''\n",
        "n (number of rows)\t        k (number of bins)\n",
        "0 < 50\t                    5-7\n",
        "50 < 100\t                6-10\n",
        "100 - 250\t                7-12\n",
        "250 or more\t                10-12\n",
        "\n",
        "'''"
      ],
      "metadata": {
        "id": "AJlrZNEAEeXZ"
      },
      "execution_count": null,
      "outputs": []
    },
    {
      "cell_type": "code",
      "source": [
        "import math"
      ],
      "metadata": {
        "id": "B448Ws7XE5h7"
      },
      "execution_count": null,
      "outputs": []
    },
    {
      "cell_type": "code",
      "source": [
        "n = len(scalevar)"
      ],
      "metadata": {
        "id": "QeZcKveyE9LY"
      },
      "execution_count": null,
      "outputs": []
    },
    {
      "cell_type": "code",
      "source": [
        "n"
      ],
      "metadata": {
        "id": "d4t_BZDHFAI8"
      },
      "execution_count": null,
      "outputs": []
    },
    {
      "cell_type": "code",
      "source": [
        "# Square-Root Choice\n",
        "k_src = math.ceil(n**0.5)\n",
        "print(\"Square-Root Choice: \", k_src)\n",
        "\n",
        "# Sturges\n",
        "k_sturges = math.ceil(math.log2(n))+1\n",
        "print(\"Sturges: \", k_sturges)\n",
        "\n",
        "# Quartic Root\n",
        "k_quarroot = math.ceil(2.5*n**(1/4))\n",
        "print(\"Quartic Root: \", k_quarroot)\n",
        "\n",
        "# Rice\n",
        "k_rice = math.ceil(2*n**(1/3))\n",
        "print(\"Rice: \", k_rice)\n",
        "\n",
        "# Terrell and Scott:\n",
        "k_ts = math.ceil((2*n)**(1/3))\n",
        "print(\"Terrell and Scott: \", k_ts)\n",
        "\n",
        "# Exponential:\n",
        "k_exp = math.ceil(math.log2(n))\n",
        "print(\"Exponential: \", k_exp)\n",
        "\n",
        "# Velleman:\n",
        "if(n<=100):\n",
        "    k_velleman = math.ceil(2*n**(1/2))\n",
        "else:\n",
        "    k_velleman = math.ceil(10*math.log(n, 10))\n",
        "print(\"Velleman: \", k_velleman)"
      ],
      "metadata": {
        "id": "jdSjpCtfE4TG"
      },
      "execution_count": null,
      "outputs": []
    },
    {
      "cell_type": "code",
      "source": [
        "plt.hist(scalevar, color='skyblue', edgecolor='green', lw=2, bins=12)"
      ],
      "metadata": {
        "id": "fnV4yFGgGksS"
      },
      "execution_count": null,
      "outputs": []
    },
    {
      "cell_type": "code",
      "source": [
        "#box and whisker plot"
      ],
      "metadata": {
        "id": "109lqce0Gtu6"
      },
      "execution_count": null,
      "outputs": []
    },
    {
      "cell_type": "code",
      "source": [
        "plt.boxplot(scalevar)"
      ],
      "metadata": {
        "id": "y_tgeCq_HKMh"
      },
      "execution_count": null,
      "outputs": []
    },
    {
      "cell_type": "code",
      "source": [
        "import seaborn"
      ],
      "metadata": {
        "id": "tFaTggO2HQac"
      },
      "execution_count": null,
      "outputs": []
    },
    {
      "cell_type": "code",
      "source": [
        "seaborn.violinplot(x=scalevar)"
      ],
      "metadata": {
        "id": "ZcWYe_4qIFIZ"
      },
      "execution_count": null,
      "outputs": []
    },
    {
      "cell_type": "code",
      "source": [
        "#scale - summarize\n",
        "\n",
        "#mean\n",
        "m = scalevar.mean()\n",
        "\n",
        "#standard deviation\n",
        "std = scalevar.std()"
      ],
      "metadata": {
        "id": "mKhlWZe6IKJR"
      },
      "execution_count": null,
      "outputs": []
    },
    {
      "cell_type": "code",
      "source": [
        "m"
      ],
      "metadata": {
        "id": "XQQGmwaAJNeb"
      },
      "execution_count": null,
      "outputs": []
    },
    {
      "cell_type": "code",
      "source": [
        "std"
      ],
      "metadata": {
        "id": "ySdhSFFuJR2Z"
      },
      "execution_count": null,
      "outputs": []
    },
    {
      "cell_type": "code",
      "source": [
        "#Chebyshev’s inequality (Tchébychef, 1867) states that\n",
        "#75% of all scores will fall within two standard deviations from the mean,\n",
        "#and almost 89% within 3 standard deviations."
      ],
      "metadata": {
        "id": "WjqbbMz0JSU9"
      },
      "execution_count": null,
      "outputs": []
    },
    {
      "cell_type": "code",
      "source": [
        "upperlimit = m + (2 * std)\n",
        "lowerlimit = m - (2 * std)"
      ],
      "metadata": {
        "id": "J8EhUlzvJoyb"
      },
      "execution_count": null,
      "outputs": []
    },
    {
      "cell_type": "code",
      "source": [
        "print(upperlimit)\n",
        "print(lowerlimit)"
      ],
      "metadata": {
        "id": "kK3mg1IbJxu3"
      },
      "execution_count": null,
      "outputs": []
    },
    {
      "cell_type": "code",
      "source": [
        "upperlimit = m + (3 * std)\n",
        "lowerlimit = m - (3 * std)"
      ],
      "metadata": {
        "id": "wGLRCGrCJ3Xr"
      },
      "execution_count": null,
      "outputs": []
    },
    {
      "cell_type": "code",
      "source": [
        "#one-sample t-test / Student t-test\n",
        "\n",
        "#H0 - the average is equal to 50\n",
        "#Ha - the average is not equal to 50\n"
      ],
      "metadata": {
        "id": "B5stbgW9KYiC"
      },
      "execution_count": null,
      "outputs": []
    },
    {
      "cell_type": "code",
      "source": [
        "from scipy.stats import ttest_1samp"
      ],
      "metadata": {
        "id": "k2ylH-a2KgKw"
      },
      "execution_count": null,
      "outputs": []
    },
    {
      "cell_type": "code",
      "source": [
        "ttest_1samp(scalevar, popmean=80)"
      ],
      "metadata": {
        "id": "qlcSgrN8K8ed"
      },
      "execution_count": null,
      "outputs": []
    },
    {
      "cell_type": "code",
      "source": [
        "#Effect size = Cohen d\n",
        "\n",
        "mean_of_sample = 48.201117318435756\n",
        "mean_of_pop = 80\n",
        "sd = 17.70490317149294\n",
        "\n",
        "temp = (mean_of_sample - mean_of_pop) / sd\n",
        "cohen_d = temp * 2**0.5\n",
        "abs(cohen_d )"
      ],
      "metadata": {
        "id": "poiJ0jXPL9aJ"
      },
      "execution_count": null,
      "outputs": []
    },
    {
      "cell_type": "code",
      "source": [
        "if abs(cohen_d ) < .20:\n",
        "    print('Negligible')\n",
        "elif abs(cohen_d ) < .50:\n",
        "    print('Small')\n",
        "elif abs(cohen_d ) < .80:\n",
        "    print('Medium')\n",
        "else:\n",
        "    print('Large')"
      ],
      "metadata": {
        "id": "Y6_ySnfQMwd0"
      },
      "execution_count": null,
      "outputs": []
    },
    {
      "cell_type": "code",
      "source": [
        "#H0 - the average is equal to 48.201117318435756\n",
        "#Ha - the average is not equal to 48.201117318435756\n",
        "\n",
        "ttest_1samp(scalevar, popmean=48.201117318435756)"
      ],
      "metadata": {
        "id": "X5iGOQ0KLjAR"
      },
      "execution_count": null,
      "outputs": []
    },
    {
      "cell_type": "code",
      "source": [
        "pvalue = 6.912890033528446e-06"
      ],
      "metadata": {
        "id": "ckirRpiMLJoH"
      },
      "execution_count": null,
      "outputs": []
    },
    {
      "cell_type": "markdown",
      "source": [
        "#sample_scores = [78, 82, 76, 79, 85, 70, 74, 81, 77, 83, 79, 80, 75, 78, 76, 82, 73, 80, 81, 77]\n",
        "\n",
        "you have the average exam score of 20 students from a particular school. You know from historical data that the population mean exam score for all students in that school is 75."
      ],
      "metadata": {
        "id": "M9XHum9INhUz"
      }
    },
    {
      "cell_type": "code",
      "source": [
        "sample_scores = [78, 82, 76, 79, 85, 70, 74, 81, 77, 83, 79, 80, 75, 78, 76, 82, 73, 80, 81, 77]\n",
        "\n",
        "# Known population mean\n",
        "population_mean = 75\n",
        "\n",
        "# Perform one-sample t-test\n",
        "t_stat, p_value = ttest_1samp(sample_scores, population_mean)\n"
      ],
      "metadata": {
        "id": "BFXjRodgOk90"
      },
      "execution_count": null,
      "outputs": []
    },
    {
      "cell_type": "code",
      "source": [
        "print(t_stat, p_value)"
      ],
      "metadata": {
        "id": "tzVXeuH2Oz3h"
      },
      "execution_count": null,
      "outputs": []
    },
    {
      "cell_type": "code",
      "source": [],
      "metadata": {
        "id": "O1Dm_5ppO2s8"
      },
      "execution_count": null,
      "outputs": []
    }
  ]
}