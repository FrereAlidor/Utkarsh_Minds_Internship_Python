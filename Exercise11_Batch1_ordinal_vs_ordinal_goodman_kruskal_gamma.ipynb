{
  "nbformat": 4,
  "nbformat_minor": 0,
  "metadata": {
    "colab": {
      "private_outputs": true,
      "provenance": []
    },
    "kernelspec": {
      "name": "python3",
      "display_name": "Python 3"
    },
    "language_info": {
      "name": "python"
    }
  },
  "cells": [
    {
      "cell_type": "code",
      "execution_count": null,
      "metadata": {
        "id": "X2SJaDzFUZY_"
      },
      "outputs": [],
      "source": [
        "'''\n",
        "If you have two ordinal variables you can either check if there is a relationship between them,\n",
        "\n",
        "To analyse a potential relationship between two ordinal variables, the following steps are done.\n",
        "\n",
        "1) Get an impression of the sample data by creating a cross table\n",
        "2) Visualise the sample data by using a heat map.\n",
        "3) Test if the relation might still be present in the population, and how strong this effect is by using Goodman-Kruskal Gamma.\n",
        "4) Write up the report.\n",
        "'''"
      ]
    },
    {
      "cell_type": "code",
      "source": [
        "import pandas\n",
        "import numpy\n",
        "import matplotlib.pyplot as plt"
      ],
      "metadata": {
        "id": "VW5IwN1EUxwY"
      },
      "execution_count": null,
      "outputs": []
    },
    {
      "cell_type": "code",
      "source": [
        "mydata = pandas.read_csv('/content/StudentStatistics.csv', sep=';')\n",
        "mydata"
      ],
      "metadata": {
        "id": "hfkYLXadVXV6"
      },
      "execution_count": null,
      "outputs": []
    },
    {
      "cell_type": "code",
      "source": [
        "'''\n",
        "'Teach_Motivate' (how well the teacher was able to motivate the student),\n",
        "and 'Teach_LinkTheory' (how well the teacher was able to link theory to practice).\n",
        "'''\n",
        "\n",
        "'Teach_Motivate'\n",
        "'Teach_LinkTheory'"
      ],
      "metadata": {
        "id": "aDkPW7raVvzL"
      },
      "execution_count": null,
      "outputs": []
    },
    {
      "cell_type": "code",
      "source": [
        "mydata['Teach_Motivate'].value_counts()"
      ],
      "metadata": {
        "id": "ZPrqRAisV_Xk"
      },
      "execution_count": null,
      "outputs": []
    },
    {
      "cell_type": "code",
      "source": [
        "mydata['Teach_LinkTheory'].value_counts()"
      ],
      "metadata": {
        "id": "OtaSxXy6XO3-"
      },
      "execution_count": null,
      "outputs": []
    },
    {
      "cell_type": "code",
      "source": [
        "dataviz = pandas.crosstab(mydata['Teach_Motivate'], mydata['Teach_LinkTheory'])\n",
        "dataviz"
      ],
      "metadata": {
        "id": "cvXPCXOAXUYF"
      },
      "execution_count": null,
      "outputs": []
    },
    {
      "cell_type": "code",
      "source": [
        "dataviz.plot(kind='bar')"
      ],
      "metadata": {
        "id": "JLLTCKLKYJYF"
      },
      "execution_count": null,
      "outputs": []
    },
    {
      "cell_type": "code",
      "source": [
        "'''\n",
        "H0 - no relationship or no influence of Teach_Motivate on Teach_LinkTheory\n",
        "Ha - yes there is an influence\n",
        "'''"
      ],
      "metadata": {
        "id": "vLxQqrXbYO4N"
      },
      "execution_count": null,
      "outputs": []
    },
    {
      "cell_type": "markdown",
      "source": [
        "#Goodman-Kruskal gamma"
      ],
      "metadata": {
        "id": "a7761kZZZ-UY"
      }
    },
    {
      "cell_type": "markdown",
      "source": [
        "There are various tests that could be used to check if there is a relation between two ordinal variables. I will use Goodman-Kruskal gamma (γ) (Goodman & Kruskal, 1954). This will test if a so-called monotonic relationship exists between two ordinal variables. Gamma uses so-called concordent and discordent pairs to check for this.\n",
        "\n",
        "Unfortunately there is no formal way to determine if a particular gamma value is high or low, and the rules of thumb floating around on the internet vary quite a lot, often depending on the field (e.g. biology, medicine, business, etc.).  I will use the rule of thumb from Rea and Parker (2014) that they use for correlation coefficients (not sure if this would also apply for gamma):\n",
        "\n",
        "|\\|γ\\||Interpretation|\n",
        "|-------|---------------|\n",
        "|0.00 < 0.10|Negligible|\n",
        "|0.10 < 0.20|Weak|\n",
        "|0.20 < 0.40|Moderate|\n",
        "|0.40 < 0.60|Relatively strong|\n",
        "|0.60 < 0.80|Strong|\n",
        "|0.80 <= 1.00|Very Strong|\n",
        "\n",
        "A positive Gamma (i.e. above 0) indicates a positive relation, which means that if someone scores high on one variable, s/he will most likely also score high on the other. A negative Gamma (i.e. below 0) indicates that if someone scores high on one variable, s/he will most likely score low on the other."
      ],
      "metadata": {
        "id": "q1auJufsaCQB"
      }
    },
    {
      "cell_type": "code",
      "source": [
        "from scipy.stats import norm\n",
        "\n",
        "def goodmanKruskalgamma(data, ordinal1, ordinal2, orderLabels1, orderLabels2=None):\n",
        "    myCrosstable = pandas.crosstab(data[ordinal1], data[ordinal2])\n",
        "\n",
        "    myCrosstable = myCrosstable.reindex(orderLabels1)\n",
        "\n",
        "    if orderLabels2 == None:\n",
        "        myCrosstable = myCrosstable[orderLabels1]\n",
        "    else:\n",
        "        myCrosstable = myCrosstable[orderLabels2]\n",
        "\n",
        "    nRows = myCrosstable.shape[0]\n",
        "    nCols = myCrosstable.shape[1]\n",
        "\n",
        "\n",
        "    C = [[0 for x in range(nCols)] for y in range(nRows)]\n",
        "\n",
        "    # top left part\n",
        "    for i in range(nRows):\n",
        "        for j in range(nCols):\n",
        "            h = i-1\n",
        "            k = j-1\n",
        "            if h>=0 and k>=0:\n",
        "                for p in range(h+1):\n",
        "                    for q in range(k+1):\n",
        "                        C[i][j] = C[i][j] + list(myCrosstable.iloc[p])[q]\n",
        "\n",
        "    # bottom right part\n",
        "    for i in range(nRows):\n",
        "        for j in range(nCols):\n",
        "            h = i+1\n",
        "            k = j+1\n",
        "            if h<nRows and k<nCols:\n",
        "                for p in range(h, nRows):\n",
        "                    for q in range(k, nCols):\n",
        "                        C[i][j] = C[i][j] + list(myCrosstable.iloc[p])[q]\n",
        "\n",
        "    D = [[0 for x in range(nCols)] for y in range(nRows)]\n",
        "\n",
        "    # bottom left part\n",
        "    for i in range(nRows):\n",
        "        for j in range(nCols):\n",
        "            h = i+1\n",
        "            k = j-1\n",
        "            if h<nRows and k>=0:\n",
        "                for p in range(h, nRows):\n",
        "                    for q in range(k+1):\n",
        "                        D[i][j] = D[i][j] + list(myCrosstable.iloc[p])[q]\n",
        "\n",
        "    # top right part\n",
        "    for i in range(nRows):\n",
        "        for j in range(nCols):\n",
        "            h = i-1\n",
        "            k = j+1\n",
        "            if h>=0 and k<nCols:\n",
        "                for p in range(h+1):\n",
        "                    for q in range(k, nCols):\n",
        "                        D[i][j] = D[i][j] + list(myCrosstable.iloc[p])[q]\n",
        "\n",
        "    P = 0\n",
        "    Q = 0\n",
        "    for i in range(nRows):\n",
        "        for j in range(nCols):\n",
        "            P = P + C[i][j] * list(myCrosstable.iloc[i])[j]\n",
        "            Q = Q + D[i][j] * list(myCrosstable.iloc[i])[j]\n",
        "\n",
        "    GKgamma = (P - Q) / (P + Q)\n",
        "\n",
        "    if abs(GKgamma) < .10:\n",
        "        qual = 'Negligible'\n",
        "    elif abs(GKgamma) < .20:\n",
        "        qual = 'Weak'\n",
        "    elif abs(GKgamma) < .40:\n",
        "        qual = 'Moderate'\n",
        "    elif abs(GKgamma) < .60:\n",
        "        qual = 'Relatively strong'\n",
        "    elif abs(GKgamma) < .80:\n",
        "        qual = 'Strong'\n",
        "    else:\n",
        "        qual = 'Very strong'\n",
        "\n",
        "    n = myCrosstable.sum().sum()\n",
        "\n",
        "    Z1 = GKgamma * ((P + Q) / (n * (1 - GKgamma**2)))**0.5\n",
        "\n",
        "    forASE0 = 0\n",
        "    forASE1 = 0\n",
        "    for i in range(nRows):\n",
        "        for j in range(nCols):\n",
        "            forASE0 = forASE0 + list(myCrosstable.iloc[i])[j] * (Q * C[i][j] - P * D[i][j])**2\n",
        "            forASE1 = forASE1 + list(myCrosstable.iloc[i])[j] * (C[i][j] - D[i][j])**2\n",
        "\n",
        "    ASE0 = 4 * (forASE0)**0.5 / (P + Q)**2\n",
        "    ASE1 = 2 * (forASE1 - (P - Q)**2 / n)**0.5 / (P + Q)\n",
        "    Z2 = GKgamma / ASE0\n",
        "    Z3 = GKgamma / ASE1\n",
        "\n",
        "    p1 = norm.sf(Z1)\n",
        "    p2 = norm.sf(Z2)\n",
        "    p3 = norm.sf(Z3)\n",
        "\n",
        "    zvalues = [Z1] + [Z2] + [Z3]\n",
        "    pvalues = [p1] + [p2] + [p3]\n",
        "\n",
        "    return (GKgamma,qual), zvalues, pvalues"
      ],
      "metadata": {
        "id": "J-r1RCVyZ51Q"
      },
      "execution_count": null,
      "outputs": []
    },
    {
      "cell_type": "code",
      "source": [
        "mydata['Teach_Motivate'].unique()"
      ],
      "metadata": {
        "id": "nrqeyLaWagSY"
      },
      "execution_count": null,
      "outputs": []
    },
    {
      "cell_type": "code",
      "source": [
        "mydata['Teach_LinkTheory'].unique()"
      ],
      "metadata": {
        "id": "MZ2F19jfal3N"
      },
      "execution_count": null,
      "outputs": []
    },
    {
      "cell_type": "code",
      "source": [
        "correctOrder1 = ['Fully Disagree', 'Disagree', 'Neither disagree nor agree', 'Agree', 'Fully agree']\n",
        "correctOrder2 = ['Fully Disagree', 'Disagree', 'Neither disagree nor agree', 'Agree', 'Fully agree']"
      ],
      "metadata": {
        "id": "CpEaHG-cao4c"
      },
      "execution_count": null,
      "outputs": []
    },
    {
      "cell_type": "code",
      "source": [
        "goodmanKruskalgamma(mydata, 'Teach_Motivate', 'Teach_LinkTheory', correctOrder1, correctOrder2)"
      ],
      "metadata": {
        "id": "rITzLAg8a364"
      },
      "execution_count": null,
      "outputs": []
    },
    {
      "cell_type": "code",
      "source": [
        "pvalue = 1.104473066321668e-40\n",
        "\n",
        "effectsize = 0.8768577494692145\n",
        "\n",
        "interpretation = 'Very strong'"
      ],
      "metadata": {
        "id": "NRZibE3mbEse"
      },
      "execution_count": null,
      "outputs": []
    }
  ]
}