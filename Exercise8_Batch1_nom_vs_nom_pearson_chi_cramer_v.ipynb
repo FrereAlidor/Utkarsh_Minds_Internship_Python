{
  "nbformat": 4,
  "nbformat_minor": 0,
  "metadata": {
    "colab": {
      "private_outputs": true,
      "provenance": []
    },
    "kernelspec": {
      "name": "python3",
      "display_name": "Python 3"
    },
    "language_info": {
      "name": "python"
    }
  },
  "cells": [
    {
      "cell_type": "code",
      "execution_count": null,
      "metadata": {
        "id": "deFY0oexBKNw"
      },
      "outputs": [],
      "source": [
        "import pandas\n",
        "import numpy\n",
        "import matplotlib.pyplot as plt"
      ]
    },
    {
      "cell_type": "code",
      "source": [
        "mydata = pandas.read_csv('/content/GSS2012a.csv')\n",
        "mydata"
      ],
      "metadata": {
        "id": "90XB_80kCF0T"
      },
      "execution_count": null,
      "outputs": []
    },
    {
      "cell_type": "code",
      "source": [
        "dataviz = pandas.crosstab(mydata['mar1'], mydata['life'])"
      ],
      "metadata": {
        "id": "FI7vANYhCQzz"
      },
      "execution_count": null,
      "outputs": []
    },
    {
      "cell_type": "code",
      "source": [
        "pandas.crosstab(mydata['mar1'], mydata['life'], margins=True)"
      ],
      "metadata": {
        "id": "1xd5d1p9Db_d"
      },
      "execution_count": null,
      "outputs": []
    },
    {
      "cell_type": "code",
      "source": [
        "pandas.crosstab(mydata['mar1'], mydata['life'], normalize='columns')*100"
      ],
      "metadata": {
        "id": "8WaC63YmDejQ"
      },
      "execution_count": null,
      "outputs": []
    },
    {
      "cell_type": "code",
      "source": [
        "pandas.crosstab(mydata['mar1'], mydata['life'], normalize='index')*100"
      ],
      "metadata": {
        "id": "Ldg5WqHsDkx3"
      },
      "execution_count": null,
      "outputs": []
    },
    {
      "cell_type": "code",
      "source": [
        "dataviz.plot(kind='bar')"
      ],
      "metadata": {
        "id": "f-9zQewLD18I"
      },
      "execution_count": null,
      "outputs": []
    },
    {
      "cell_type": "code",
      "source": [
        "'''\n",
        "Data - marital status vs feeling of life\n",
        "\n",
        "H0 -  marital status vs feeling of life (no connection or no relationship)\n",
        "Ha -  marital status vs feeling of life ( connection or  relationship)\n",
        "'''"
      ],
      "metadata": {
        "id": "xrNkECprF8c7"
      },
      "execution_count": null,
      "outputs": []
    },
    {
      "cell_type": "markdown",
      "source": [
        "#Pearson Chi-Square Test of Independence"
      ],
      "metadata": {
        "id": "A_9XObhoGl9d"
      }
    },
    {
      "cell_type": "code",
      "source": [
        "from scipy.stats import chi2_contingency\n",
        "\n",
        "chi2_contingency(dataviz)"
      ],
      "metadata": {
        "id": "OUohZ4_fGhb5"
      },
      "execution_count": null,
      "outputs": []
    },
    {
      "cell_type": "code",
      "source": [
        "pvalue = 7.464877390427598e-05"
      ],
      "metadata": {
        "id": "J1gZDeOJG3N9"
      },
      "execution_count": null,
      "outputs": []
    },
    {
      "cell_type": "code",
      "source": [],
      "metadata": {
        "id": "8ZD5GwosHBtI"
      },
      "execution_count": null,
      "outputs": []
    },
    {
      "cell_type": "markdown",
      "source": [
        "To indicate the strength of the association between two nominal variables, Cramér's V (Cramér, 1946) is often used.\n",
        "\n",
        "As for the interpretation for Cramér's V various rules of thumb exist but one of them is from Cohen (1988, pp. 222, 224, 225) who let's the interpretation depend on the degrees of freedom, shown in the table below.\n",
        "\n",
        "|df*|negligible|small|medium|large|\n",
        "|-------|---|---|---|---|\n",
        "|1|0 < .10|.10 < .30|.30 < .50|.50 or more|\n",
        "|2|0 < .07|.07 < .21|.21 < .35|.35 or more|\n",
        "|3|0 < .06|.06 < .17|.17 < .29|.29 or more|\n",
        "|4|0 < .05|.05 < .15|.15 < .25|.25 or more|\n",
        "|5|0 < .05|.05 < .13|.13 < .22|.22 or more|\n",
        "\n",
        "The degrees of freedom (df*) is for Cramér's V the minimum of the number of rows, or number of columns, then minus one.\n",
        "\n",
        "Lets see how to obtain Cramér's V with Python, using an example."
      ],
      "metadata": {
        "id": "bbHYwHzMHfiu"
      }
    },
    {
      "cell_type": "code",
      "source": [
        "!pip install https://raw.githubusercontent.com/stikpet/stikpetP/main/stikpetP.tar.gz\n",
        "import stikpetP as ps"
      ],
      "metadata": {
        "id": "v-ZkKODfIISC"
      },
      "execution_count": null,
      "outputs": []
    },
    {
      "cell_type": "code",
      "source": [
        "chi2table = ps.ts_pearson_ind(mydata['mar1'], mydata['life'])\n",
        "chi2table"
      ],
      "metadata": {
        "id": "A-tOMZWXHwMQ"
      },
      "execution_count": null,
      "outputs": []
    },
    {
      "cell_type": "code",
      "source": [
        "n = chi2table['n'][0]\n",
        "nrows = chi2table['n rows'][0]\n",
        "ncols =  chi2table['n col.'][0]\n",
        "statistics = chi2table['statistic'][0]"
      ],
      "metadata": {
        "id": "G2f07u04IVXa"
      },
      "execution_count": null,
      "outputs": []
    },
    {
      "cell_type": "code",
      "source": [
        "ps.es_cramer_v_ind(statistics, n, nrows, ncols)"
      ],
      "metadata": {
        "id": "mWj09BUMItnk"
      },
      "execution_count": null,
      "outputs": []
    },
    {
      "cell_type": "code",
      "source": [
        "V = 0.11313395589484188"
      ],
      "metadata": {
        "id": "GpExmiQfJobS"
      },
      "execution_count": null,
      "outputs": []
    },
    {
      "cell_type": "code",
      "source": [
        "df = 2"
      ],
      "metadata": {
        "id": "0Kmtp6-DJjCq"
      },
      "execution_count": null,
      "outputs": []
    },
    {
      "cell_type": "code",
      "source": [
        "if df == 1:\n",
        "    if V < 0.10:\n",
        "        qual = 'negligible'\n",
        "    elif V < 0.30:\n",
        "        qual = 'small'\n",
        "    elif V < 0.50:\n",
        "        qual = 'medium'\n",
        "    else:\n",
        "        qual = 'large'\n",
        "elif df == 2:\n",
        "    if V < 0.07:\n",
        "        qual = 'negligible'\n",
        "    elif V < 0.21:\n",
        "        qual = 'small'\n",
        "    elif V < 0.35:\n",
        "        qual = 'medium'\n",
        "    else:\n",
        "        qual = 'large'\n",
        "elif df == 3:\n",
        "    if V < 0.06:\n",
        "        qual = 'negligible'\n",
        "    elif V < 0.17:\n",
        "        qual = 'small'\n",
        "    elif V < 0.29:\n",
        "        qual = 'medium'\n",
        "    else:\n",
        "        qual = 'large'\n",
        "elif df == 4:\n",
        "    if V < 0.05:\n",
        "        qual = 'negligible'\n",
        "    elif V < 0.15:\n",
        "        qual = 'small'\n",
        "    elif V < 0.25:\n",
        "        qual = 'medium'\n",
        "    else:\n",
        "        qual = 'large'\n",
        "else:\n",
        "    if V < 0.05:\n",
        "        qual = 'negligible'\n",
        "    elif V < 0.13:\n",
        "        qual = 'small'\n",
        "    elif V < 0.22:\n",
        "        qual = 'medium'\n",
        "    else:\n",
        "        qual = 'large'\n",
        "\n",
        "qual"
      ],
      "metadata": {
        "id": "MfenEJW4JF7p"
      },
      "execution_count": null,
      "outputs": []
    }
  ]
}