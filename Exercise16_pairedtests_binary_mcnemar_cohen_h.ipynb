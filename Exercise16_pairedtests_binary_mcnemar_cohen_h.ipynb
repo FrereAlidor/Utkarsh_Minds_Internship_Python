{
  "nbformat": 4,
  "nbformat_minor": 0,
  "metadata": {
    "colab": {
      "private_outputs": true,
      "provenance": []
    },
    "kernelspec": {
      "name": "python3",
      "display_name": "Python 3"
    },
    "language_info": {
      "name": "python"
    }
  },
  "cells": [
    {
      "cell_type": "code",
      "execution_count": null,
      "metadata": {
        "id": "70OUJ0JOUXOB"
      },
      "outputs": [],
      "source": [
        "#Paired tests\n",
        "\n",
        "'''\n",
        "data is binary\n",
        "Whether you like football or cricket\n",
        "Event is footballers and cricketers photo\n",
        "\n",
        "\n",
        "H0 - no effect\n",
        "Ha -  there is effect\n",
        "\n",
        "Person   Before     After\n",
        "A           F       C\n",
        "B           F       F\n",
        "C           C       F\n",
        "'''"
      ]
    },
    {
      "cell_type": "code",
      "source": [
        "import pandas\n",
        "import numpy\n",
        "import matplotlib.pyplot as plt\n",
        "\n",
        "before = numpy.array([0, 1, 1, 0, 1, 0, 1, 0, 0, 1])  # Before intervention\n",
        "after = numpy.array([1, 1, 1, 0, 1, 1, 1, 0, 0, 1])   # After intervention"
      ],
      "metadata": {
        "id": "puGDPwFGWVBF"
      },
      "execution_count": null,
      "outputs": []
    },
    {
      "cell_type": "code",
      "source": [
        "#crosstable\n",
        "data = pandas.DataFrame({\n",
        "    'before':before,\n",
        "    'after': after\n",
        "})\n",
        "\n",
        "crosstable = pandas.crosstab(data['before'], data['after'])\n",
        "crosstable"
      ],
      "metadata": {
        "id": "8-CCiF77WhPX"
      },
      "execution_count": null,
      "outputs": []
    },
    {
      "cell_type": "code",
      "source": [
        "#barchart\n",
        "crosstable.plot(kind='bar')"
      ],
      "metadata": {
        "id": "knfo0p9GXdF5"
      },
      "execution_count": null,
      "outputs": []
    },
    {
      "cell_type": "code",
      "source": [
        "from statsmodels.stats.contingency_tables import mcnemar\n",
        "\n",
        "print('exact and correction =', mcnemar(crosstable, exact=True, correction=True))\n",
        "print('exact and no correction =', mcnemar(crosstable, exact=True, correction=False))\n",
        "print('not exact and correction =', mcnemar(crosstable, exact=False, correction=True))\n",
        "print('not exact and no correction =', mcnemar(crosstable, exact=False, correction=False))"
      ],
      "metadata": {
        "id": "flUrVfJ2Xx2l"
      },
      "execution_count": null,
      "outputs": []
    },
    {
      "cell_type": "code",
      "source": [
        "# pvalue > 0.05\n",
        "#null hypothesis we cannot reject\n",
        "#result not significant"
      ],
      "metadata": {
        "id": "0-pnrdZ_YlQ1"
      },
      "execution_count": null,
      "outputs": []
    },
    {
      "cell_type": "markdown",
      "source": [
        "# Effect size - Cohen h"
      ],
      "metadata": {
        "id": "3tUIt-3MY7i3"
      }
    },
    {
      "cell_type": "code",
      "source": [
        "a = 2 #when before is 0 and after is 1\n",
        "b = 0 #when before is 1 and after is 0\n",
        "\n",
        "h = ((a - b) **2) / (a + b)\n",
        "h\n",
        "\n",
        "'''\n",
        "Cohen[1] provides the following descriptive interpretations of h as a rule of thumb:\n",
        "\n",
        "h = 0.20: \"small effect size\".\n",
        "h = 0.50: \"medium effect size\".\n",
        "h = 0.80: \"large effect size\".\n",
        "h > 0.8    very large\n",
        "'''"
      ],
      "metadata": {
        "id": "fWjnEJbNZA3v"
      },
      "execution_count": null,
      "outputs": []
    },
    {
      "cell_type": "markdown",
      "source": [
        "#Cohen g and odds ratio - calculate for our data"
      ],
      "metadata": {
        "id": "quwZVYPHdTQ6"
      }
    },
    {
      "cell_type": "code",
      "source": [
        "import numpy as np\n",
        "from scipy.stats import norm\n",
        "\n",
        "def compute_cohens_g(a, b, c, d):\n",
        "    \"\"\"\n",
        "    Compute Cohen's g given a contingency table.\n",
        "\n",
        "    Parameters:\n",
        "    a, b, c, d -- Values from the 2x2 contingency table\n",
        "                  for paired binary data.\n",
        "                  a: unchanged positive condition\n",
        "                  b: changed to positive condition\n",
        "                  c: changed to negative condition\n",
        "                  d: unchanged negative condition\n",
        "\n",
        "    Returns:\n",
        "    Cohen's g effect size.\n",
        "    \"\"\"\n",
        "    p1 = a / (a + c)\n",
        "    p2 = b / (b + d)\n",
        "\n",
        "    # Calculate Cohen's h\n",
        "    h = 2 * (np.arcsin(np.sqrt(p1)) - np.arcsin(np.sqrt(p2)))\n",
        "\n",
        "    # Convert Cohen's h to Cohen's g\n",
        "    g = np.tan(h / 2)\n",
        "    return g\n",
        "\n",
        "def compute_odds_ratio(a, b, c, d):\n",
        "    \"\"\"\n",
        "    Compute the Odds Ratio given a contingency table.\n",
        "\n",
        "    Parameters:\n",
        "    a, b, c, d -- Values from the 2x2 contingency table\n",
        "                  for paired binary data. Refer to\n",
        "                  compute_cohens_g function for parameter details.\n",
        "\n",
        "    Returns:\n",
        "    Odds Ratio.\n",
        "    \"\"\"\n",
        "    return (a * d) / (b * c)\n",
        "\n",
        "# Example contingency table:\n",
        "# +---+---------+---------+\n",
        "# |   | Test 1  | Test 2  |\n",
        "# +---+---------+---------+\n",
        "# | P | a = 50  | b = 10  |\n",
        "# +---+---------+---------+\n",
        "# | N | c = 5   | d = 100 |\n",
        "# +---+---------+---------+\n",
        "\n",
        "a, b, c, d = 50, 10, 5, 100\n",
        "\n",
        "cohens_g = compute_cohens_g(a, b, c, d)\n",
        "odds_ratio = compute_odds_ratio(a, b, c, d)\n",
        "\n",
        "print(f\"Cohen's g: {cohens_g}\")\n",
        "print(f\"Odds Ratio: {odds_ratio}\")"
      ],
      "metadata": {
        "id": "w_phytdVdBPJ"
      },
      "execution_count": null,
      "outputs": []
    }
  ]
}